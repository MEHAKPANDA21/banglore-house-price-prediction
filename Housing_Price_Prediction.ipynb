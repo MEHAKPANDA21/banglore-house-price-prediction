{
 "cells": [
  {
   "cell_type": "code",
   "execution_count": 3,
   "id": "ae7e8d7f-d54c-4136-ba14-5b366b9efde1",
   "metadata": {},
   "outputs": [],
   "source": [
    "# importing the libraries\n",
    "import pandas as pd\n",
    "import numpy as np\n",
    "import matplotlib.pyplot as plt\n",
    "import matplotlib\n",
    "matplotlib.rcParams[\"figure.figsize\"] = (20,10)"
   ]
  },
  {
   "cell_type": "code",
   "execution_count": 4,
   "id": "fc2bed78-a512-4c6d-99f3-4ab55c6027f2",
   "metadata": {},
   "outputs": [
    {
     "data": {
      "text/html": [
       "<div>\n",
       "<style scoped>\n",
       "    .dataframe tbody tr th:only-of-type {\n",
       "        vertical-align: middle;\n",
       "    }\n",
       "\n",
       "    .dataframe tbody tr th {\n",
       "        vertical-align: top;\n",
       "    }\n",
       "\n",
       "    .dataframe thead th {\n",
       "        text-align: right;\n",
       "    }\n",
       "</style>\n",
       "<table border=\"1\" class=\"dataframe\">\n",
       "  <thead>\n",
       "    <tr style=\"text-align: right;\">\n",
       "      <th></th>\n",
       "      <th>area_type</th>\n",
       "      <th>availability</th>\n",
       "      <th>location</th>\n",
       "      <th>size</th>\n",
       "      <th>society</th>\n",
       "      <th>total_sqft</th>\n",
       "      <th>bath</th>\n",
       "      <th>balcony</th>\n",
       "      <th>price</th>\n",
       "    </tr>\n",
       "  </thead>\n",
       "  <tbody>\n",
       "    <tr>\n",
       "      <th>0</th>\n",
       "      <td>Super built-up  Area</td>\n",
       "      <td>19-Dec</td>\n",
       "      <td>Electronic City Phase II</td>\n",
       "      <td>2 BHK</td>\n",
       "      <td>Coomee</td>\n",
       "      <td>1056</td>\n",
       "      <td>2.0</td>\n",
       "      <td>1.0</td>\n",
       "      <td>39.07</td>\n",
       "    </tr>\n",
       "    <tr>\n",
       "      <th>1</th>\n",
       "      <td>Plot  Area</td>\n",
       "      <td>Ready To Move</td>\n",
       "      <td>Chikka Tirupathi</td>\n",
       "      <td>4 Bedroom</td>\n",
       "      <td>Theanmp</td>\n",
       "      <td>2600</td>\n",
       "      <td>5.0</td>\n",
       "      <td>3.0</td>\n",
       "      <td>120.00</td>\n",
       "    </tr>\n",
       "    <tr>\n",
       "      <th>2</th>\n",
       "      <td>Built-up  Area</td>\n",
       "      <td>Ready To Move</td>\n",
       "      <td>Uttarahalli</td>\n",
       "      <td>3 BHK</td>\n",
       "      <td>NaN</td>\n",
       "      <td>1440</td>\n",
       "      <td>2.0</td>\n",
       "      <td>3.0</td>\n",
       "      <td>62.00</td>\n",
       "    </tr>\n",
       "    <tr>\n",
       "      <th>3</th>\n",
       "      <td>Super built-up  Area</td>\n",
       "      <td>Ready To Move</td>\n",
       "      <td>Lingadheeranahalli</td>\n",
       "      <td>3 BHK</td>\n",
       "      <td>Soiewre</td>\n",
       "      <td>1521</td>\n",
       "      <td>3.0</td>\n",
       "      <td>1.0</td>\n",
       "      <td>95.00</td>\n",
       "    </tr>\n",
       "    <tr>\n",
       "      <th>4</th>\n",
       "      <td>Super built-up  Area</td>\n",
       "      <td>Ready To Move</td>\n",
       "      <td>Kothanur</td>\n",
       "      <td>2 BHK</td>\n",
       "      <td>NaN</td>\n",
       "      <td>1200</td>\n",
       "      <td>2.0</td>\n",
       "      <td>1.0</td>\n",
       "      <td>51.00</td>\n",
       "    </tr>\n",
       "  </tbody>\n",
       "</table>\n",
       "</div>"
      ],
      "text/plain": [
       "              area_type   availability                  location       size  \\\n",
       "0  Super built-up  Area         19-Dec  Electronic City Phase II      2 BHK   \n",
       "1            Plot  Area  Ready To Move          Chikka Tirupathi  4 Bedroom   \n",
       "2        Built-up  Area  Ready To Move               Uttarahalli      3 BHK   \n",
       "3  Super built-up  Area  Ready To Move        Lingadheeranahalli      3 BHK   \n",
       "4  Super built-up  Area  Ready To Move                  Kothanur      2 BHK   \n",
       "\n",
       "   society total_sqft  bath  balcony   price  \n",
       "0  Coomee        1056   2.0      1.0   39.07  \n",
       "1  Theanmp       2600   5.0      3.0  120.00  \n",
       "2      NaN       1440   2.0      3.0   62.00  \n",
       "3  Soiewre       1521   3.0      1.0   95.00  \n",
       "4      NaN       1200   2.0      1.0   51.00  "
      ]
     },
     "execution_count": 4,
     "metadata": {},
     "output_type": "execute_result"
    }
   ],
   "source": [
    "df = pd.read_csv(\"Bengaluru_House_Data.csv\")\n",
    "dfc = df.copy()\n",
    "    \n",
    "df.head()"
   ]
  },
  {
   "cell_type": "code",
   "execution_count": 5,
   "id": "7f6d4d86-b97b-4266-870d-77886d8939ae",
   "metadata": {},
   "outputs": [
    {
     "data": {
      "text/plain": [
       "(13320, 9)"
      ]
     },
     "execution_count": 5,
     "metadata": {},
     "output_type": "execute_result"
    }
   ],
   "source": [
    "df.shape"
   ]
  },
  {
   "cell_type": "code",
   "execution_count": 6,
   "id": "9b9347e6-c0d0-41bd-9529-4cfdf09d8fa4",
   "metadata": {},
   "outputs": [
    {
     "name": "stdout",
     "output_type": "stream",
     "text": [
      "<class 'pandas.core.frame.DataFrame'>\n",
      "RangeIndex: 13320 entries, 0 to 13319\n",
      "Data columns (total 9 columns):\n",
      " #   Column        Non-Null Count  Dtype  \n",
      "---  ------        --------------  -----  \n",
      " 0   area_type     13320 non-null  object \n",
      " 1   availability  13320 non-null  object \n",
      " 2   location      13319 non-null  object \n",
      " 3   size          13304 non-null  object \n",
      " 4   society       7818 non-null   object \n",
      " 5   total_sqft    13320 non-null  object \n",
      " 6   bath          13247 non-null  float64\n",
      " 7   balcony       12711 non-null  float64\n",
      " 8   price         13320 non-null  float64\n",
      "dtypes: float64(3), object(6)\n",
      "memory usage: 936.7+ KB\n"
     ]
    }
   ],
   "source": [
    "df.info()"
   ]
  },
  {
   "cell_type": "code",
   "execution_count": 7,
   "id": "96a4a315-f646-4f4a-918b-cfa28db08c01",
   "metadata": {},
   "outputs": [
    {
     "data": {
      "text/plain": [
       "Index(['area_type', 'availability', 'location', 'size', 'society',\n",
       "       'total_sqft', 'bath', 'balcony', 'price'],\n",
       "      dtype='object')"
      ]
     },
     "execution_count": 7,
     "metadata": {},
     "output_type": "execute_result"
    }
   ],
   "source": [
    "df.columns"
   ]
  },
  {
   "cell_type": "code",
   "execution_count": 8,
   "id": "bb971c98-415f-4243-8ca2-6c8fa6a28706",
   "metadata": {},
   "outputs": [
    {
     "data": {
      "text/plain": [
       "area_type          4\n",
       "availability      81\n",
       "location        1305\n",
       "size              31\n",
       "society         2688\n",
       "total_sqft      2117\n",
       "bath              19\n",
       "balcony            4\n",
       "price           1994\n",
       "dtype: int64"
      ]
     },
     "execution_count": 8,
     "metadata": {},
     "output_type": "execute_result"
    }
   ],
   "source": [
    "df.nunique()"
   ]
  },
  {
   "cell_type": "code",
   "execution_count": 9,
   "id": "92fa8114-d899-45a0-9e5c-3ff5e71e40e7",
   "metadata": {},
   "outputs": [
    {
     "data": {
      "text/plain": [
       "area_type\n",
       "Super built-up  Area    8790\n",
       "Built-up  Area          2418\n",
       "Plot  Area              2025\n",
       "Carpet  Area              87\n",
       "Name: area_type, dtype: int64"
      ]
     },
     "execution_count": 9,
     "metadata": {},
     "output_type": "execute_result"
    }
   ],
   "source": [
    "#Determining the unique values in area type columns and there counts\n",
    "df.groupby(\"area_type\")[\"area_type\"].agg(\"count\").sort_values(ascending = False)"
   ]
  },
  {
   "cell_type": "code",
   "execution_count": 10,
   "id": "8e84ec3c-da50-4c0c-89e2-a5297e5b6cbf",
   "metadata": {},
   "outputs": [
    {
     "data": {
      "text/plain": [
       "area_type\n",
       "Super built-up  Area    8790\n",
       "Built-up  Area          2418\n",
       "Plot  Area              2025\n",
       "Carpet  Area              87\n",
       "Name: count, dtype: int64"
      ]
     },
     "execution_count": 10,
     "metadata": {},
     "output_type": "execute_result"
    }
   ],
   "source": [
    "#Determining the unique values in area type columns and there counts\n",
    "df[\"area_type\"].value_counts()"
   ]
  },
  {
   "cell_type": "code",
   "execution_count": 11,
   "id": "5c6ec6a8-ef29-40b8-976b-a4a4eb3b4139",
   "metadata": {},
   "outputs": [
    {
     "data": {
      "text/plain": [
       "area_type          0\n",
       "availability       0\n",
       "location           1\n",
       "size              16\n",
       "society         5502\n",
       "total_sqft         0\n",
       "bath              73\n",
       "balcony          609\n",
       "price              0\n",
       "dtype: int64"
      ]
     },
     "execution_count": 11,
     "metadata": {},
     "output_type": "execute_result"
    }
   ],
   "source": [
    "# knowing the missing values\n",
    "df.isnull().sum()"
   ]
  },
  {
   "cell_type": "code",
   "execution_count": 12,
   "id": "d75db639-4b41-44ce-9ad1-02a6a207a703",
   "metadata": {},
   "outputs": [
    {
     "data": {
      "text/plain": [
       "529"
      ]
     },
     "execution_count": 12,
     "metadata": {},
     "output_type": "execute_result"
    }
   ],
   "source": [
    "df.duplicated().sum()"
   ]
  },
  {
   "cell_type": "code",
   "execution_count": 13,
   "id": "001e03a7-2257-4117-b032-a024b085f7e8",
   "metadata": {},
   "outputs": [],
   "source": [
    "df.drop_duplicates(keep = \"last\", inplace= True)"
   ]
  },
  {
   "cell_type": "code",
   "execution_count": 14,
   "id": "bebba66e-0a18-4759-a6d5-f6944948bbc0",
   "metadata": {},
   "outputs": [
    {
     "data": {
      "text/plain": [
       "area_type        object\n",
       "availability     object\n",
       "location         object\n",
       "size             object\n",
       "society          object\n",
       "total_sqft       object\n",
       "bath            float64\n",
       "balcony         float64\n",
       "price           float64\n",
       "dtype: object"
      ]
     },
     "execution_count": 14,
     "metadata": {},
     "output_type": "execute_result"
    }
   ],
   "source": [
    "df.dtypes"
   ]
  },
  {
   "cell_type": "code",
   "execution_count": 15,
   "id": "d9a6d6f3-b6f0-4afa-9fac-0ac7e1b8839d",
   "metadata": {},
   "outputs": [
    {
     "data": {
      "text/plain": [
       "array(['2 BHK', '4 Bedroom', '3 BHK', '4 BHK', '6 Bedroom', '3 Bedroom',\n",
       "       '1 BHK', '1 RK', '1 Bedroom', '8 Bedroom', '2 Bedroom',\n",
       "       '7 Bedroom', '5 BHK', '7 BHK', '6 BHK', '5 Bedroom', '11 BHK',\n",
       "       '9 BHK', nan, '9 Bedroom', '27 BHK', '10 Bedroom', '11 Bedroom',\n",
       "       '10 BHK', '19 BHK', '16 BHK', '43 Bedroom', '14 BHK', '8 BHK',\n",
       "       '12 Bedroom', '13 BHK', '18 Bedroom'], dtype=object)"
      ]
     },
     "execution_count": 15,
     "metadata": {},
     "output_type": "execute_result"
    }
   ],
   "source": [
    "# determining the unique values in size column\n",
    "df[\"size\"].unique()"
   ]
  },
  {
   "cell_type": "code",
   "execution_count": 16,
   "id": "66342b1a-132e-4876-8e56-1ac988cc02a7",
   "metadata": {},
   "outputs": [],
   "source": [
    " df.dropna(inplace = True)"
   ]
  },
  {
   "cell_type": "code",
   "execution_count": 17,
   "id": "a0cd3892-73e8-4174-990c-0c31a342320e",
   "metadata": {},
   "outputs": [
    {
     "data": {
      "text/html": [
       "<div>\n",
       "<style scoped>\n",
       "    .dataframe tbody tr th:only-of-type {\n",
       "        vertical-align: middle;\n",
       "    }\n",
       "\n",
       "    .dataframe tbody tr th {\n",
       "        vertical-align: top;\n",
       "    }\n",
       "\n",
       "    .dataframe thead th {\n",
       "        text-align: right;\n",
       "    }\n",
       "</style>\n",
       "<table border=\"1\" class=\"dataframe\">\n",
       "  <thead>\n",
       "    <tr style=\"text-align: right;\">\n",
       "      <th></th>\n",
       "      <th>area_type</th>\n",
       "      <th>location</th>\n",
       "      <th>total_sqft</th>\n",
       "      <th>bath</th>\n",
       "      <th>balcony</th>\n",
       "      <th>price</th>\n",
       "      <th>bhk</th>\n",
       "    </tr>\n",
       "  </thead>\n",
       "  <tbody>\n",
       "    <tr>\n",
       "      <th>0</th>\n",
       "      <td>Super built-up  Area</td>\n",
       "      <td>Electronic City Phase II</td>\n",
       "      <td>1056</td>\n",
       "      <td>2.0</td>\n",
       "      <td>1.0</td>\n",
       "      <td>39.07</td>\n",
       "      <td>2</td>\n",
       "    </tr>\n",
       "    <tr>\n",
       "      <th>1</th>\n",
       "      <td>Plot  Area</td>\n",
       "      <td>Chikka Tirupathi</td>\n",
       "      <td>2600</td>\n",
       "      <td>5.0</td>\n",
       "      <td>3.0</td>\n",
       "      <td>120.00</td>\n",
       "      <td>4</td>\n",
       "    </tr>\n",
       "    <tr>\n",
       "      <th>3</th>\n",
       "      <td>Super built-up  Area</td>\n",
       "      <td>Lingadheeranahalli</td>\n",
       "      <td>1521</td>\n",
       "      <td>3.0</td>\n",
       "      <td>1.0</td>\n",
       "      <td>95.00</td>\n",
       "      <td>3</td>\n",
       "    </tr>\n",
       "    <tr>\n",
       "      <th>5</th>\n",
       "      <td>Super built-up  Area</td>\n",
       "      <td>Whitefield</td>\n",
       "      <td>1170</td>\n",
       "      <td>2.0</td>\n",
       "      <td>1.0</td>\n",
       "      <td>38.00</td>\n",
       "      <td>2</td>\n",
       "    </tr>\n",
       "    <tr>\n",
       "      <th>11</th>\n",
       "      <td>Plot  Area</td>\n",
       "      <td>Whitefield</td>\n",
       "      <td>2785</td>\n",
       "      <td>5.0</td>\n",
       "      <td>3.0</td>\n",
       "      <td>295.00</td>\n",
       "      <td>4</td>\n",
       "    </tr>\n",
       "  </tbody>\n",
       "</table>\n",
       "</div>"
      ],
      "text/plain": [
       "               area_type                  location total_sqft  bath  balcony  \\\n",
       "0   Super built-up  Area  Electronic City Phase II       1056   2.0      1.0   \n",
       "1             Plot  Area          Chikka Tirupathi       2600   5.0      3.0   \n",
       "3   Super built-up  Area        Lingadheeranahalli       1521   3.0      1.0   \n",
       "5   Super built-up  Area                Whitefield       1170   2.0      1.0   \n",
       "11            Plot  Area                Whitefield       2785   5.0      3.0   \n",
       "\n",
       "     price  bhk  \n",
       "0    39.07    2  \n",
       "1   120.00    4  \n",
       "3    95.00    3  \n",
       "5    38.00    2  \n",
       "11  295.00    4  "
      ]
     },
     "execution_count": 17,
     "metadata": {},
     "output_type": "execute_result"
    }
   ],
   "source": [
    "df[\"bhk\"] = df[\"size\"].apply(lambda x: int(x.split(\" \")[0]))\n",
    "df.drop([\"size\", \"society\", \"availability\"], axis = 1, inplace = True)\n",
    "df.head()"
   ]
  },
  {
   "cell_type": "code",
   "execution_count": 18,
   "id": "6ffa351d-aff8-47e5-a9d1-866ad243d875",
   "metadata": {},
   "outputs": [
    {
     "data": {
      "text/plain": [
       "array([ 2,  4,  3,  1,  5, 11,  9,  6,  7], dtype=int64)"
      ]
     },
     "execution_count": 18,
     "metadata": {},
     "output_type": "execute_result"
    }
   ],
   "source": [
    "df.bhk.unique()"
   ]
  },
  {
   "cell_type": "code",
   "execution_count": 19,
   "id": "055f2eb1-28af-400d-a279-82286e841d58",
   "metadata": {},
   "outputs": [
    {
     "data": {
      "text/html": [
       "<div>\n",
       "<style scoped>\n",
       "    .dataframe tbody tr th:only-of-type {\n",
       "        vertical-align: middle;\n",
       "    }\n",
       "\n",
       "    .dataframe tbody tr th {\n",
       "        vertical-align: top;\n",
       "    }\n",
       "\n",
       "    .dataframe thead th {\n",
       "        text-align: right;\n",
       "    }\n",
       "</style>\n",
       "<table border=\"1\" class=\"dataframe\">\n",
       "  <thead>\n",
       "    <tr style=\"text-align: right;\">\n",
       "      <th></th>\n",
       "      <th>area_type</th>\n",
       "      <th>location</th>\n",
       "      <th>total_sqft</th>\n",
       "      <th>bath</th>\n",
       "      <th>balcony</th>\n",
       "      <th>price</th>\n",
       "      <th>bhk</th>\n",
       "    </tr>\n",
       "  </thead>\n",
       "  <tbody>\n",
       "    <tr>\n",
       "      <th>459</th>\n",
       "      <td>Super built-up  Area</td>\n",
       "      <td>1 Giri Nagar</td>\n",
       "      <td>5000</td>\n",
       "      <td>9.0</td>\n",
       "      <td>3.0</td>\n",
       "      <td>360.0</td>\n",
       "      <td>11</td>\n",
       "    </tr>\n",
       "    <tr>\n",
       "      <th>538</th>\n",
       "      <td>Super built-up  Area</td>\n",
       "      <td>Mico Layout</td>\n",
       "      <td>5000</td>\n",
       "      <td>9.0</td>\n",
       "      <td>3.0</td>\n",
       "      <td>210.0</td>\n",
       "      <td>9</td>\n",
       "    </tr>\n",
       "    <tr>\n",
       "      <th>2252</th>\n",
       "      <td>Super built-up  Area</td>\n",
       "      <td>Uttarahalli</td>\n",
       "      <td>3600</td>\n",
       "      <td>6.0</td>\n",
       "      <td>2.0</td>\n",
       "      <td>120.0</td>\n",
       "      <td>6</td>\n",
       "    </tr>\n",
       "    <tr>\n",
       "      <th>2620</th>\n",
       "      <td>Super built-up  Area</td>\n",
       "      <td>Sathya Sai Layout</td>\n",
       "      <td>11338</td>\n",
       "      <td>9.0</td>\n",
       "      <td>1.0</td>\n",
       "      <td>1000.0</td>\n",
       "      <td>6</td>\n",
       "    </tr>\n",
       "    <tr>\n",
       "      <th>2739</th>\n",
       "      <td>Super built-up  Area</td>\n",
       "      <td>Giri Nagar</td>\n",
       "      <td>4500</td>\n",
       "      <td>5.0</td>\n",
       "      <td>3.0</td>\n",
       "      <td>250.0</td>\n",
       "      <td>7</td>\n",
       "    </tr>\n",
       "    <tr>\n",
       "      <th>4738</th>\n",
       "      <td>Plot  Area</td>\n",
       "      <td>Bannerghatta Road</td>\n",
       "      <td>1850</td>\n",
       "      <td>6.0</td>\n",
       "      <td>3.0</td>\n",
       "      <td>150.0</td>\n",
       "      <td>6</td>\n",
       "    </tr>\n",
       "    <tr>\n",
       "      <th>6028</th>\n",
       "      <td>Built-up  Area</td>\n",
       "      <td>Banashankari</td>\n",
       "      <td>1200</td>\n",
       "      <td>6.0</td>\n",
       "      <td>2.0</td>\n",
       "      <td>180.0</td>\n",
       "      <td>6</td>\n",
       "    </tr>\n",
       "    <tr>\n",
       "      <th>10180</th>\n",
       "      <td>Plot  Area</td>\n",
       "      <td>KR Puram</td>\n",
       "      <td>1200</td>\n",
       "      <td>6.0</td>\n",
       "      <td>3.0</td>\n",
       "      <td>132.0</td>\n",
       "      <td>6</td>\n",
       "    </tr>\n",
       "    <tr>\n",
       "      <th>12750</th>\n",
       "      <td>Plot  Area</td>\n",
       "      <td>Whitefield</td>\n",
       "      <td>4000</td>\n",
       "      <td>5.0</td>\n",
       "      <td>1.0</td>\n",
       "      <td>540.0</td>\n",
       "      <td>6</td>\n",
       "    </tr>\n",
       "  </tbody>\n",
       "</table>\n",
       "</div>"
      ],
      "text/plain": [
       "                  area_type           location total_sqft  bath  balcony  \\\n",
       "459    Super built-up  Area       1 Giri Nagar       5000   9.0      3.0   \n",
       "538    Super built-up  Area        Mico Layout       5000   9.0      3.0   \n",
       "2252   Super built-up  Area        Uttarahalli       3600   6.0      2.0   \n",
       "2620   Super built-up  Area  Sathya Sai Layout      11338   9.0      1.0   \n",
       "2739   Super built-up  Area         Giri Nagar       4500   5.0      3.0   \n",
       "4738             Plot  Area  Bannerghatta Road       1850   6.0      3.0   \n",
       "6028         Built-up  Area       Banashankari       1200   6.0      2.0   \n",
       "10180            Plot  Area           KR Puram       1200   6.0      3.0   \n",
       "12750            Plot  Area         Whitefield       4000   5.0      1.0   \n",
       "\n",
       "        price  bhk  \n",
       "459     360.0   11  \n",
       "538     210.0    9  \n",
       "2252    120.0    6  \n",
       "2620   1000.0    6  \n",
       "2739    250.0    7  \n",
       "4738    150.0    6  \n",
       "6028    180.0    6  \n",
       "10180   132.0    6  \n",
       "12750   540.0    6  "
      ]
     },
     "execution_count": 19,
     "metadata": {},
     "output_type": "execute_result"
    }
   ],
   "source": [
    "df[df.bhk > 5]"
   ]
  },
  {
   "cell_type": "code",
   "execution_count": 20,
   "id": "dcd786fe-a777-4902-ae7e-ba2076d72eb8",
   "metadata": {},
   "outputs": [
    {
     "data": {
      "text/plain": [
       "total_sqft\n",
       "1200               168\n",
       "1100               100\n",
       "1000                75\n",
       "1500                72\n",
       "1300                68\n",
       "                  ... \n",
       "628                  1\n",
       "547.34 - 827.31      1\n",
       "2465                 1\n",
       "4075                 1\n",
       "4689                 1\n",
       "Name: count, Length: 1682, dtype: int64"
      ]
     },
     "execution_count": 20,
     "metadata": {},
     "output_type": "execute_result"
    }
   ],
   "source": [
    "df.total_sqft.value_counts()"
   ]
  },
  {
   "cell_type": "code",
   "execution_count": 21,
   "id": "9eed2c63-cfd0-464c-9ba2-3bbd3b076903",
   "metadata": {},
   "outputs": [],
   "source": [
    "# creating a function to subset ranges values in total square foot column\n",
    "def is_float(x):\n",
    "    try:\n",
    "        float(x)\n",
    "    except:\n",
    "        return False\n",
    "    return True"
   ]
  },
  {
   "cell_type": "code",
   "execution_count": 22,
   "id": "c1f08eab-5733-46b4-85da-7f618c47692f",
   "metadata": {},
   "outputs": [],
   "source": [
    "df2 = df[-df[\"total_sqft\"].apply(is_float)]"
   ]
  },
  {
   "cell_type": "code",
   "execution_count": 23,
   "id": "1de82e62-6ec1-4a23-b9c4-c445743d19a7",
   "metadata": {},
   "outputs": [
    {
     "data": {
      "text/plain": [
       "array(['2100 - 2850', '3067 - 8156', '1042 - 1105', '1145 - 1340',\n",
       "       '1015 - 1540', '1195 - 1440', '1120 - 1145', '3090 - 5002',\n",
       "       '1160 - 1195', '1115 - 1130', '520 - 645', '1000 - 1285',\n",
       "       '650 - 665', '633 - 666', '1445 - 1455', '884 - 1116',\n",
       "       '850 - 1093', '547.34 - 827.31', '580 - 650', '3425 - 3435',\n",
       "       '1804 - 2273', '3630 - 3800', '4000 - 5249', '1500Sq. Meter',\n",
       "       '142.61Sq. Meter', '1574Sq. Yards', '1250 - 1305', '670 - 980',\n",
       "       '1005.03 - 1252.49', '1004 - 1204', '645 - 936', '2710 - 3360',\n",
       "       '2830 - 2882', '596 - 804', '1255 - 1863', '1300 - 1405',\n",
       "       '117Sq. Yards', '934 - 1437', '980 - 1030', '2249.81 - 4112.19',\n",
       "       '1070 - 1315', '500Sq. Yards', '2806 - 3019', '613 - 648',\n",
       "       '704 - 730', '1210 - 1477', '3369 - 3464', '1125 - 1500',\n",
       "       '1076 - 1199', '381 - 535', '524 - 894', '540 - 670',\n",
       "       '2725 - 3250', '888 - 1290', '660 - 700', '385 - 440', '770 - 841',\n",
       "       '188.89Sq. Yards', '1469 - 1766', '204Sq. Meter', '1255 - 1350',\n",
       "       '870 - 1080', '133.3Sq. Yards', '2580 - 2591', '2563 - 2733',\n",
       "       '605 - 624', '1349 - 3324', '78.03Sq. Meter', '3300 - 3335',\n",
       "       '1180 - 1630', '1365 - 1700', '981 - 1249', '1565 - 1595',\n",
       "       '1270 - 1275', '840 - 1010', '655 - 742', '1408 - 1455',\n",
       "       '942 - 1117', '598 - 958', '1010 - 1300', '1450 - 1950', '15Acres',\n",
       "       '763 - 805', '3307 - 3464', '620 - 934', '2462 - 2467',\n",
       "       '540 - 740', '3508 - 4201', '4900 - 4940', '755 - 770',\n",
       "       '664 - 722', '596 - 861', '615 - 985', '540 - 565', '750 - 800',\n",
       "       '1660 - 1805', '1079 - 1183', '2800 - 2870', '1230 - 1290',\n",
       "       '943 - 1220', '2041 - 2090', '527 - 639', '1160 - 1315',\n",
       "       '706 - 716', '2940Sq. Yards', '45.06Sq. Meter', '799 - 803',\n",
       "       '2470 - 2790', '783 - 943', '4500 - 5540', '1255 - 1375',\n",
       "       '610 - 615', '854 - 960', '2650 - 2990', '1230 - 1490',\n",
       "       '660 - 780', '1150 - 1194', '684 - 810', '1510 - 1670',\n",
       "       '1550 - 1590', '1235 - 1410', '929 - 1078', '2150 - 2225',\n",
       "       '1520 - 1759', '629 - 1026', '1215 - 1495', '1140 - 1250',\n",
       "       '2400 - 2600', '1052 - 1322', '5666 - 5669', '712 - 938',\n",
       "       '1783 - 1878', '2528 - 3188', '650 - 760', '1400 - 1421',\n",
       "       '4000 - 4450', '142.84Sq. Meter', '300Sq. Yards', '1437 - 1629',\n",
       "       '850 - 1060', '1200 - 1470', '1133 - 1384'], dtype=object)"
      ]
     },
     "execution_count": 23,
     "metadata": {},
     "output_type": "execute_result"
    }
   ],
   "source": [
    "df2.total_sqft.unique()"
   ]
  },
  {
   "cell_type": "code",
   "execution_count": 24,
   "id": "3e1d2fe8-0a91-4bf3-b755-85d402240616",
   "metadata": {},
   "outputs": [],
   "source": [
    "# function of getting the average of the ranges\n",
    "def convert_column_to_avg(x):\n",
    "    tokens = x.split(\"-\")\n",
    "    if len(tokens) == 2:\n",
    "        return (float(tokens[0]) + float(tokens[1]))/2\n",
    "    try: \n",
    "        return float(x)\n",
    "    except:\n",
    "        return None\n"
   ]
  },
  {
   "cell_type": "code",
   "execution_count": 25,
   "id": "b82432ee-2035-425d-bbda-334a19e4dacf",
   "metadata": {},
   "outputs": [],
   "source": [
    "df[\"total_sqft\"] = df[\"total_sqft\"].apply(convert_column_to_avg)"
   ]
  },
  {
   "cell_type": "code",
   "execution_count": 26,
   "id": "3f9aae92-8c40-4327-be33-26da5c900372",
   "metadata": {},
   "outputs": [
    {
     "data": {
      "text/plain": [
       "area_type     0\n",
       "location      0\n",
       "total_sqft    0\n",
       "bath          0\n",
       "balcony       0\n",
       "price         0\n",
       "bhk           0\n",
       "dtype: int64"
      ]
     },
     "execution_count": 26,
     "metadata": {},
     "output_type": "execute_result"
    }
   ],
   "source": [
    "df.dropna(inplace = True)\n",
    "\n",
    "df.isnull().sum()"
   ]
  },
  {
   "cell_type": "code",
   "execution_count": 27,
   "id": "60f9dd74-5be5-4319-8dae-fb94d97cb3f5",
   "metadata": {},
   "outputs": [
    {
     "data": {
      "text/plain": [
       "Index(['area_type', 'availability', 'location', 'size', 'society',\n",
       "       'total_sqft', 'bath', 'balcony', 'price'],\n",
       "      dtype='object')"
      ]
     },
     "execution_count": 27,
     "metadata": {},
     "output_type": "execute_result"
    }
   ],
   "source": [
    "dfc.columns"
   ]
  },
  {
   "cell_type": "code",
   "execution_count": 28,
   "id": "b2c5146f-8669-4e3a-9e00-6b1ef405ad7f",
   "metadata": {},
   "outputs": [
    {
     "data": {
      "text/plain": [
       "area_type          0\n",
       "availability       0\n",
       "location           1\n",
       "size              16\n",
       "society         5502\n",
       "total_sqft         0\n",
       "bath              73\n",
       "balcony          609\n",
       "price              0\n",
       "dtype: int64"
      ]
     },
     "execution_count": 28,
     "metadata": {},
     "output_type": "execute_result"
    }
   ],
   "source": [
    "dfc.isnull().sum()"
   ]
  },
  {
   "cell_type": "code",
   "execution_count": 29,
   "id": "48d993e5-8c52-4c0c-b28f-e60840b25607",
   "metadata": {},
   "outputs": [
    {
     "name": "stdout",
     "output_type": "stream",
     "text": [
      "<class 'pandas.core.frame.DataFrame'>\n",
      "RangeIndex: 13320 entries, 0 to 13319\n",
      "Data columns (total 9 columns):\n",
      " #   Column        Non-Null Count  Dtype  \n",
      "---  ------        --------------  -----  \n",
      " 0   area_type     13320 non-null  object \n",
      " 1   availability  13320 non-null  object \n",
      " 2   location      13319 non-null  object \n",
      " 3   size          13304 non-null  object \n",
      " 4   society       7818 non-null   object \n",
      " 5   total_sqft    13320 non-null  object \n",
      " 6   bath          13247 non-null  float64\n",
      " 7   balcony       12711 non-null  float64\n",
      " 8   price         13320 non-null  float64\n",
      "dtypes: float64(3), object(6)\n",
      "memory usage: 936.7+ KB\n"
     ]
    }
   ],
   "source": [
    "dfc.info()"
   ]
  },
  {
   "cell_type": "code",
   "execution_count": 30,
   "id": "38405434-dcfa-4b45-8a3c-61d999a76862",
   "metadata": {},
   "outputs": [
    {
     "data": {
      "text/plain": [
       "balcony\n",
       "2.0    5113\n",
       "1.0    4897\n",
       "3.0    1672\n",
       "0.0    1029\n",
       "Name: count, dtype: int64"
      ]
     },
     "execution_count": 30,
     "metadata": {},
     "output_type": "execute_result"
    }
   ],
   "source": [
    "dfc.balcony.value_counts()"
   ]
  },
  {
   "cell_type": "code",
   "execution_count": 31,
   "id": "2e673ff6-b452-408b-b19b-0f641a7a368e",
   "metadata": {},
   "outputs": [
    {
     "name": "stdout",
     "output_type": "stream",
     "text": [
      "<class 'pandas.core.frame.DataFrame'>\n",
      "Index: 7129 entries, 0 to 13318\n",
      "Data columns (total 7 columns):\n",
      " #   Column      Non-Null Count  Dtype  \n",
      "---  ------      --------------  -----  \n",
      " 0   area_type   7129 non-null   object \n",
      " 1   location    7129 non-null   object \n",
      " 2   total_sqft  7129 non-null   float64\n",
      " 3   bath        7129 non-null   float64\n",
      " 4   balcony     7129 non-null   float64\n",
      " 5   price       7129 non-null   float64\n",
      " 6   bhk         7129 non-null   int64  \n",
      "dtypes: float64(4), int64(1), object(2)\n",
      "memory usage: 445.6+ KB\n"
     ]
    }
   ],
   "source": [
    "df.info()"
   ]
  },
  {
   "cell_type": "code",
   "execution_count": 32,
   "id": "862c94c5-2381-4a52-bb36-78f9011d3d2c",
   "metadata": {},
   "outputs": [
    {
     "data": {
      "text/html": [
       "<div>\n",
       "<style scoped>\n",
       "    .dataframe tbody tr th:only-of-type {\n",
       "        vertical-align: middle;\n",
       "    }\n",
       "\n",
       "    .dataframe tbody tr th {\n",
       "        vertical-align: top;\n",
       "    }\n",
       "\n",
       "    .dataframe thead th {\n",
       "        text-align: right;\n",
       "    }\n",
       "</style>\n",
       "<table border=\"1\" class=\"dataframe\">\n",
       "  <thead>\n",
       "    <tr style=\"text-align: right;\">\n",
       "      <th></th>\n",
       "      <th>area_type</th>\n",
       "      <th>location</th>\n",
       "      <th>total_sqft</th>\n",
       "      <th>bath</th>\n",
       "      <th>balcony</th>\n",
       "      <th>price</th>\n",
       "      <th>bhk</th>\n",
       "    </tr>\n",
       "  </thead>\n",
       "  <tbody>\n",
       "    <tr>\n",
       "      <th>0</th>\n",
       "      <td>Super built-up  Area</td>\n",
       "      <td>Electronic City Phase II</td>\n",
       "      <td>1056.0</td>\n",
       "      <td>2.0</td>\n",
       "      <td>1.0</td>\n",
       "      <td>39.07</td>\n",
       "      <td>2</td>\n",
       "    </tr>\n",
       "    <tr>\n",
       "      <th>1</th>\n",
       "      <td>Plot  Area</td>\n",
       "      <td>Chikka Tirupathi</td>\n",
       "      <td>2600.0</td>\n",
       "      <td>5.0</td>\n",
       "      <td>3.0</td>\n",
       "      <td>120.00</td>\n",
       "      <td>4</td>\n",
       "    </tr>\n",
       "    <tr>\n",
       "      <th>3</th>\n",
       "      <td>Super built-up  Area</td>\n",
       "      <td>Lingadheeranahalli</td>\n",
       "      <td>1521.0</td>\n",
       "      <td>3.0</td>\n",
       "      <td>1.0</td>\n",
       "      <td>95.00</td>\n",
       "      <td>3</td>\n",
       "    </tr>\n",
       "    <tr>\n",
       "      <th>5</th>\n",
       "      <td>Super built-up  Area</td>\n",
       "      <td>Whitefield</td>\n",
       "      <td>1170.0</td>\n",
       "      <td>2.0</td>\n",
       "      <td>1.0</td>\n",
       "      <td>38.00</td>\n",
       "      <td>2</td>\n",
       "    </tr>\n",
       "    <tr>\n",
       "      <th>11</th>\n",
       "      <td>Plot  Area</td>\n",
       "      <td>Whitefield</td>\n",
       "      <td>2785.0</td>\n",
       "      <td>5.0</td>\n",
       "      <td>3.0</td>\n",
       "      <td>295.00</td>\n",
       "      <td>4</td>\n",
       "    </tr>\n",
       "  </tbody>\n",
       "</table>\n",
       "</div>"
      ],
      "text/plain": [
       "               area_type                  location  total_sqft  bath  balcony  \\\n",
       "0   Super built-up  Area  Electronic City Phase II      1056.0   2.0      1.0   \n",
       "1             Plot  Area          Chikka Tirupathi      2600.0   5.0      3.0   \n",
       "3   Super built-up  Area        Lingadheeranahalli      1521.0   3.0      1.0   \n",
       "5   Super built-up  Area                Whitefield      1170.0   2.0      1.0   \n",
       "11            Plot  Area                Whitefield      2785.0   5.0      3.0   \n",
       "\n",
       "     price  bhk  \n",
       "0    39.07    2  \n",
       "1   120.00    4  \n",
       "3    95.00    3  \n",
       "5    38.00    2  \n",
       "11  295.00    4  "
      ]
     },
     "execution_count": 32,
     "metadata": {},
     "output_type": "execute_result"
    }
   ],
   "source": [
    "df.head()"
   ]
  },
  {
   "cell_type": "code",
   "execution_count": 33,
   "id": "59b89086-37f7-4ded-b207-a7258af153dd",
   "metadata": {},
   "outputs": [],
   "source": [
    "df1 = df.copy()"
   ]
  },
  {
   "cell_type": "code",
   "execution_count": 34,
   "id": "3a72833d-363c-4bbf-a875-e66abe040bf3",
   "metadata": {},
   "outputs": [
    {
     "data": {
      "text/html": [
       "<div>\n",
       "<style scoped>\n",
       "    .dataframe tbody tr th:only-of-type {\n",
       "        vertical-align: middle;\n",
       "    }\n",
       "\n",
       "    .dataframe tbody tr th {\n",
       "        vertical-align: top;\n",
       "    }\n",
       "\n",
       "    .dataframe thead th {\n",
       "        text-align: right;\n",
       "    }\n",
       "</style>\n",
       "<table border=\"1\" class=\"dataframe\">\n",
       "  <thead>\n",
       "    <tr style=\"text-align: right;\">\n",
       "      <th></th>\n",
       "      <th>area_type</th>\n",
       "      <th>location</th>\n",
       "      <th>total_sqft</th>\n",
       "      <th>bath</th>\n",
       "      <th>balcony</th>\n",
       "      <th>price</th>\n",
       "      <th>bhk</th>\n",
       "      <th>price_sqft</th>\n",
       "    </tr>\n",
       "  </thead>\n",
       "  <tbody>\n",
       "    <tr>\n",
       "      <th>0</th>\n",
       "      <td>Super built-up  Area</td>\n",
       "      <td>Electronic City Phase II</td>\n",
       "      <td>1056.0</td>\n",
       "      <td>2.0</td>\n",
       "      <td>1.0</td>\n",
       "      <td>39.07</td>\n",
       "      <td>2</td>\n",
       "      <td>3699.810606</td>\n",
       "    </tr>\n",
       "    <tr>\n",
       "      <th>1</th>\n",
       "      <td>Plot  Area</td>\n",
       "      <td>Chikka Tirupathi</td>\n",
       "      <td>2600.0</td>\n",
       "      <td>5.0</td>\n",
       "      <td>3.0</td>\n",
       "      <td>120.00</td>\n",
       "      <td>4</td>\n",
       "      <td>4615.384615</td>\n",
       "    </tr>\n",
       "    <tr>\n",
       "      <th>3</th>\n",
       "      <td>Super built-up  Area</td>\n",
       "      <td>Lingadheeranahalli</td>\n",
       "      <td>1521.0</td>\n",
       "      <td>3.0</td>\n",
       "      <td>1.0</td>\n",
       "      <td>95.00</td>\n",
       "      <td>3</td>\n",
       "      <td>6245.890861</td>\n",
       "    </tr>\n",
       "    <tr>\n",
       "      <th>5</th>\n",
       "      <td>Super built-up  Area</td>\n",
       "      <td>Whitefield</td>\n",
       "      <td>1170.0</td>\n",
       "      <td>2.0</td>\n",
       "      <td>1.0</td>\n",
       "      <td>38.00</td>\n",
       "      <td>2</td>\n",
       "      <td>3247.863248</td>\n",
       "    </tr>\n",
       "    <tr>\n",
       "      <th>11</th>\n",
       "      <td>Plot  Area</td>\n",
       "      <td>Whitefield</td>\n",
       "      <td>2785.0</td>\n",
       "      <td>5.0</td>\n",
       "      <td>3.0</td>\n",
       "      <td>295.00</td>\n",
       "      <td>4</td>\n",
       "      <td>10592.459605</td>\n",
       "    </tr>\n",
       "  </tbody>\n",
       "</table>\n",
       "</div>"
      ],
      "text/plain": [
       "               area_type                  location  total_sqft  bath  balcony  \\\n",
       "0   Super built-up  Area  Electronic City Phase II      1056.0   2.0      1.0   \n",
       "1             Plot  Area          Chikka Tirupathi      2600.0   5.0      3.0   \n",
       "3   Super built-up  Area        Lingadheeranahalli      1521.0   3.0      1.0   \n",
       "5   Super built-up  Area                Whitefield      1170.0   2.0      1.0   \n",
       "11            Plot  Area                Whitefield      2785.0   5.0      3.0   \n",
       "\n",
       "     price  bhk    price_sqft  \n",
       "0    39.07    2   3699.810606  \n",
       "1   120.00    4   4615.384615  \n",
       "3    95.00    3   6245.890861  \n",
       "5    38.00    2   3247.863248  \n",
       "11  295.00    4  10592.459605  "
      ]
     },
     "execution_count": 34,
     "metadata": {},
     "output_type": "execute_result"
    }
   ],
   "source": [
    "df1[\"price_sqft\"] = df1[\"price\"]*100000/df1[\"total_sqft\"]\n",
    "\n",
    "df1.head()"
   ]
  },
  {
   "cell_type": "code",
   "execution_count": 35,
   "id": "2a8e0e3f-ebf4-4347-8b36-2cf07982e4a5",
   "metadata": {},
   "outputs": [
    {
     "data": {
      "text/plain": [
       "location\n",
       "Whitefield            382\n",
       "Sarjapur  Road        297\n",
       "Electronic City       231\n",
       "Thanisandra           209\n",
       "Kanakpura Road        195\n",
       "                     ... \n",
       "Raghavendra Nagar       1\n",
       "Bhuvaneswari Nagar      1\n",
       "Immadihalli             1\n",
       "Jai Bheema Nagar        1\n",
       "VHBCS Layout            1\n",
       "Name: count, Length: 625, dtype: int64"
      ]
     },
     "execution_count": 35,
     "metadata": {},
     "output_type": "execute_result"
    }
   ],
   "source": [
    "df[\"location\"] = df[\"location\"].apply(lambda x: x.strip())\n",
    "\n",
    "df_value = df[\"location\"].value_counts()\n",
    "\n",
    "df_value"
   ]
  },
  {
   "cell_type": "code",
   "execution_count": 36,
   "id": "af49c406-db43-4d7b-8b68-5693bb1b9a05",
   "metadata": {},
   "outputs": [
    {
     "data": {
      "text/plain": [
       "486"
      ]
     },
     "execution_count": 36,
     "metadata": {},
     "output_type": "execute_result"
    }
   ],
   "source": [
    "df_value[df_value <= 10].count()"
   ]
  },
  {
   "cell_type": "code",
   "execution_count": 37,
   "id": "d931da13-b448-46c3-9ed0-dab8c4d942b7",
   "metadata": {},
   "outputs": [
    {
     "data": {
      "text/plain": [
       "location\n",
       "Rayasandra            10\n",
       "Prithvi Layout        10\n",
       "Mallasandra           10\n",
       "Dairy Circle          10\n",
       "Pattandur Agrahara    10\n",
       "                      ..\n",
       "Raghavendra Nagar      1\n",
       "Bhuvaneswari Nagar     1\n",
       "Immadihalli            1\n",
       "Jai Bheema Nagar       1\n",
       "VHBCS Layout           1\n",
       "Name: count, Length: 486, dtype: int64"
      ]
     },
     "execution_count": 37,
     "metadata": {},
     "output_type": "execute_result"
    }
   ],
   "source": [
    "location_less_than_ten = df_value[df_value <= 10]\n",
    "\n",
    "location_less_than_ten"
   ]
  },
  {
   "cell_type": "code",
   "execution_count": 38,
   "id": "8e229d85-60fd-490e-bfbe-4f21b9064df8",
   "metadata": {},
   "outputs": [],
   "source": [
    "df1[\"location\"] = df1[\"location\"].apply(lambda x: \"others\" if x in location_less_than_ten else x)"
   ]
  },
  {
   "cell_type": "code",
   "execution_count": 39,
   "id": "29dede83-b81e-4f88-99fb-55314f9c6600",
   "metadata": {},
   "outputs": [
    {
     "data": {
      "text/plain": [
       "148"
      ]
     },
     "execution_count": 39,
     "metadata": {},
     "output_type": "execute_result"
    }
   ],
   "source": [
    "df1.location.nunique()"
   ]
  },
  {
   "cell_type": "code",
   "execution_count": 40,
   "id": "9bba49ed-8436-492c-8aee-2db2f5021d9b",
   "metadata": {},
   "outputs": [
    {
     "data": {
      "text/plain": [
       "area_type        4\n",
       "location       148\n",
       "total_sqft    1623\n",
       "bath             8\n",
       "balcony          4\n",
       "price         1515\n",
       "bhk              9\n",
       "price_sqft    5250\n",
       "dtype: int64"
      ]
     },
     "execution_count": 40,
     "metadata": {},
     "output_type": "execute_result"
    }
   ],
   "source": [
    "df1.nunique()"
   ]
  },
  {
   "cell_type": "code",
   "execution_count": 41,
   "id": "1b329420-85c3-40f2-ab48-e134687e0cb0",
   "metadata": {},
   "outputs": [
    {
     "data": {
      "text/plain": [
       "area_type        4\n",
       "location       148\n",
       "total_sqft    1623\n",
       "bath             8\n",
       "balcony          4\n",
       "price         1515\n",
       "bhk              9\n",
       "price_sqft    5250\n",
       "dtype: int64"
      ]
     },
     "execution_count": 41,
     "metadata": {},
     "output_type": "execute_result"
    }
   ],
   "source": [
    "df1.nunique()"
   ]
  },
  {
   "cell_type": "code",
   "execution_count": 42,
   "id": "65a5e1db-44f2-4e01-b168-fa07eb65fc5b",
   "metadata": {},
   "outputs": [
    {
     "data": {
      "text/plain": [
       "(7129, 8)"
      ]
     },
     "execution_count": 42,
     "metadata": {},
     "output_type": "execute_result"
    }
   ],
   "source": [
    "df1.shape"
   ]
  },
  {
   "cell_type": "code",
   "execution_count": 43,
   "id": "79f3b313-3eb1-444e-a0b5-8e938d751a0a",
   "metadata": {},
   "outputs": [
    {
     "data": {
      "text/html": [
       "<div>\n",
       "<style scoped>\n",
       "    .dataframe tbody tr th:only-of-type {\n",
       "        vertical-align: middle;\n",
       "    }\n",
       "\n",
       "    .dataframe tbody tr th {\n",
       "        vertical-align: top;\n",
       "    }\n",
       "\n",
       "    .dataframe thead th {\n",
       "        text-align: right;\n",
       "    }\n",
       "</style>\n",
       "<table border=\"1\" class=\"dataframe\">\n",
       "  <thead>\n",
       "    <tr style=\"text-align: right;\">\n",
       "      <th></th>\n",
       "      <th>area_type</th>\n",
       "      <th>location</th>\n",
       "      <th>total_sqft</th>\n",
       "      <th>bath</th>\n",
       "      <th>balcony</th>\n",
       "      <th>price</th>\n",
       "      <th>bhk</th>\n",
       "      <th>price_sqft</th>\n",
       "    </tr>\n",
       "  </thead>\n",
       "  <tbody>\n",
       "    <tr>\n",
       "      <th>9041</th>\n",
       "      <td>Super built-up  Area</td>\n",
       "      <td>Kasavanhalli</td>\n",
       "      <td>1476.0</td>\n",
       "      <td>3.0</td>\n",
       "      <td>0.0</td>\n",
       "      <td>105.0</td>\n",
       "      <td>3</td>\n",
       "      <td>7113.821138</td>\n",
       "    </tr>\n",
       "    <tr>\n",
       "      <th>8749</th>\n",
       "      <td>Super built-up  Area</td>\n",
       "      <td>Yeshwanthpur</td>\n",
       "      <td>1856.0</td>\n",
       "      <td>4.0</td>\n",
       "      <td>2.0</td>\n",
       "      <td>180.0</td>\n",
       "      <td>3</td>\n",
       "      <td>9698.275862</td>\n",
       "    </tr>\n",
       "    <tr>\n",
       "      <th>8511</th>\n",
       "      <td>Super built-up  Area</td>\n",
       "      <td>Whitefield</td>\n",
       "      <td>3596.0</td>\n",
       "      <td>3.0</td>\n",
       "      <td>1.0</td>\n",
       "      <td>200.0</td>\n",
       "      <td>3</td>\n",
       "      <td>5561.735261</td>\n",
       "    </tr>\n",
       "    <tr>\n",
       "      <th>30</th>\n",
       "      <td>Super built-up  Area</td>\n",
       "      <td>Yelahanka</td>\n",
       "      <td>2475.0</td>\n",
       "      <td>4.0</td>\n",
       "      <td>0.0</td>\n",
       "      <td>186.0</td>\n",
       "      <td>4</td>\n",
       "      <td>7515.151515</td>\n",
       "    </tr>\n",
       "    <tr>\n",
       "      <th>3833</th>\n",
       "      <td>Super built-up  Area</td>\n",
       "      <td>others</td>\n",
       "      <td>1302.0</td>\n",
       "      <td>2.0</td>\n",
       "      <td>1.0</td>\n",
       "      <td>69.1</td>\n",
       "      <td>2</td>\n",
       "      <td>5307.219662</td>\n",
       "    </tr>\n",
       "    <tr>\n",
       "      <th>4118</th>\n",
       "      <td>Super built-up  Area</td>\n",
       "      <td>Electronic City</td>\n",
       "      <td>1070.0</td>\n",
       "      <td>2.0</td>\n",
       "      <td>1.0</td>\n",
       "      <td>60.0</td>\n",
       "      <td>2</td>\n",
       "      <td>5607.476636</td>\n",
       "    </tr>\n",
       "    <tr>\n",
       "      <th>12092</th>\n",
       "      <td>Super built-up  Area</td>\n",
       "      <td>Talaghattapura</td>\n",
       "      <td>3554.0</td>\n",
       "      <td>4.0</td>\n",
       "      <td>1.0</td>\n",
       "      <td>340.0</td>\n",
       "      <td>3</td>\n",
       "      <td>9566.685425</td>\n",
       "    </tr>\n",
       "  </tbody>\n",
       "</table>\n",
       "</div>"
      ],
      "text/plain": [
       "                  area_type         location  total_sqft  bath  balcony  \\\n",
       "9041   Super built-up  Area     Kasavanhalli      1476.0   3.0      0.0   \n",
       "8749   Super built-up  Area     Yeshwanthpur      1856.0   4.0      2.0   \n",
       "8511   Super built-up  Area       Whitefield      3596.0   3.0      1.0   \n",
       "30     Super built-up  Area        Yelahanka      2475.0   4.0      0.0   \n",
       "3833   Super built-up  Area           others      1302.0   2.0      1.0   \n",
       "4118   Super built-up  Area  Electronic City      1070.0   2.0      1.0   \n",
       "12092  Super built-up  Area   Talaghattapura      3554.0   4.0      1.0   \n",
       "\n",
       "       price  bhk   price_sqft  \n",
       "9041   105.0    3  7113.821138  \n",
       "8749   180.0    3  9698.275862  \n",
       "8511   200.0    3  5561.735261  \n",
       "30     186.0    4  7515.151515  \n",
       "3833    69.1    2  5307.219662  \n",
       "4118    60.0    2  5607.476636  \n",
       "12092  340.0    3  9566.685425  "
      ]
     },
     "execution_count": 43,
     "metadata": {},
     "output_type": "execute_result"
    }
   ],
   "source": [
    "df2 = df1.copy()\n",
    "\n",
    "df2.sample(7)"
   ]
  },
  {
   "cell_type": "code",
   "execution_count": 44,
   "id": "1d41dad8-b9bd-4947-bc92-b336a4110442",
   "metadata": {},
   "outputs": [
    {
     "data": {
      "text/html": [
       "<div>\n",
       "<style scoped>\n",
       "    .dataframe tbody tr th:only-of-type {\n",
       "        vertical-align: middle;\n",
       "    }\n",
       "\n",
       "    .dataframe tbody tr th {\n",
       "        vertical-align: top;\n",
       "    }\n",
       "\n",
       "    .dataframe thead th {\n",
       "        text-align: right;\n",
       "    }\n",
       "</style>\n",
       "<table border=\"1\" class=\"dataframe\">\n",
       "  <thead>\n",
       "    <tr style=\"text-align: right;\">\n",
       "      <th></th>\n",
       "      <th>area_type</th>\n",
       "      <th>location</th>\n",
       "      <th>total_sqft</th>\n",
       "      <th>bath</th>\n",
       "      <th>balcony</th>\n",
       "      <th>price</th>\n",
       "      <th>bhk</th>\n",
       "      <th>price_sqft</th>\n",
       "    </tr>\n",
       "  </thead>\n",
       "  <tbody>\n",
       "    <tr>\n",
       "      <th>349</th>\n",
       "      <td>Plot  Area</td>\n",
       "      <td>others</td>\n",
       "      <td>11.0</td>\n",
       "      <td>3.0</td>\n",
       "      <td>2.0</td>\n",
       "      <td>74.0</td>\n",
       "      <td>3</td>\n",
       "      <td>672727.272727</td>\n",
       "    </tr>\n",
       "    <tr>\n",
       "      <th>480</th>\n",
       "      <td>Built-up  Area</td>\n",
       "      <td>others</td>\n",
       "      <td>1150.0</td>\n",
       "      <td>4.0</td>\n",
       "      <td>2.0</td>\n",
       "      <td>260.0</td>\n",
       "      <td>4</td>\n",
       "      <td>22608.695652</td>\n",
       "    </tr>\n",
       "    <tr>\n",
       "      <th>483</th>\n",
       "      <td>Plot  Area</td>\n",
       "      <td>others</td>\n",
       "      <td>1200.0</td>\n",
       "      <td>5.0</td>\n",
       "      <td>2.0</td>\n",
       "      <td>190.0</td>\n",
       "      <td>5</td>\n",
       "      <td>15833.333333</td>\n",
       "    </tr>\n",
       "    <tr>\n",
       "      <th>1239</th>\n",
       "      <td>Built-up  Area</td>\n",
       "      <td>Electronic City</td>\n",
       "      <td>550.0</td>\n",
       "      <td>1.0</td>\n",
       "      <td>1.0</td>\n",
       "      <td>16.0</td>\n",
       "      <td>2</td>\n",
       "      <td>2909.090909</td>\n",
       "    </tr>\n",
       "    <tr>\n",
       "      <th>2126</th>\n",
       "      <td>Super built-up  Area</td>\n",
       "      <td>Electronic City Phase II</td>\n",
       "      <td>545.0</td>\n",
       "      <td>1.0</td>\n",
       "      <td>1.0</td>\n",
       "      <td>27.0</td>\n",
       "      <td>2</td>\n",
       "      <td>4954.128440</td>\n",
       "    </tr>\n",
       "  </tbody>\n",
       "</table>\n",
       "</div>"
      ],
      "text/plain": [
       "                 area_type                  location  total_sqft  bath  \\\n",
       "349             Plot  Area                    others        11.0   3.0   \n",
       "480         Built-up  Area                    others      1150.0   4.0   \n",
       "483             Plot  Area                    others      1200.0   5.0   \n",
       "1239        Built-up  Area           Electronic City       550.0   1.0   \n",
       "2126  Super built-up  Area  Electronic City Phase II       545.0   1.0   \n",
       "\n",
       "      balcony  price  bhk     price_sqft  \n",
       "349       2.0   74.0    3  672727.272727  \n",
       "480       2.0  260.0    4   22608.695652  \n",
       "483       2.0  190.0    5   15833.333333  \n",
       "1239      1.0   16.0    2    2909.090909  \n",
       "2126      1.0   27.0    2    4954.128440  "
      ]
     },
     "execution_count": 44,
     "metadata": {},
     "output_type": "execute_result"
    }
   ],
   "source": [
    "# finding houses that goes below the typical standard normal of 300 per square feet \n",
    "outlier_1 = df2[df2.total_sqft/df2.bhk<300]\n",
    "\n",
    "outlier_1.head()"
   ]
  },
  {
   "cell_type": "code",
   "execution_count": 45,
   "id": "f6fb8199-a444-410c-8d76-8b28cc717a97",
   "metadata": {},
   "outputs": [
    {
     "data": {
      "text/plain": [
       "(7089, 8)"
      ]
     },
     "execution_count": 45,
     "metadata": {},
     "output_type": "execute_result"
    }
   ],
   "source": [
    "# removing the above outliers from the main data\n",
    "df3 =  df2[-(df2.total_sqft/df2.bhk<300)]\n",
    "\n",
    "df3.shape"
   ]
  },
  {
   "cell_type": "code",
   "execution_count": 46,
   "id": "d9ba3093-f83b-4ced-8816-b78f0fe23234",
   "metadata": {},
   "outputs": [
    {
     "data": {
      "text/plain": [
       "count     7089.000000\n",
       "mean      5886.037797\n",
       "std       2738.814973\n",
       "min        371.428571\n",
       "25%       4307.692308\n",
       "50%       5349.579832\n",
       "75%       6713.554987\n",
       "max      76530.612245\n",
       "Name: price_sqft, dtype: float64"
      ]
     },
     "execution_count": 46,
     "metadata": {},
     "output_type": "execute_result"
    }
   ],
   "source": [
    "df3.price_sqft.describe()"
   ]
  },
  {
   "cell_type": "code",
   "execution_count": 47,
   "id": "2925cc9e-c7e6-4feb-9124-7a1a55cac179",
   "metadata": {},
   "outputs": [
    {
     "data": {
      "text/html": [
       "<div>\n",
       "<style scoped>\n",
       "    .dataframe tbody tr th:only-of-type {\n",
       "        vertical-align: middle;\n",
       "    }\n",
       "\n",
       "    .dataframe tbody tr th {\n",
       "        vertical-align: top;\n",
       "    }\n",
       "\n",
       "    .dataframe thead th {\n",
       "        text-align: right;\n",
       "    }\n",
       "</style>\n",
       "<table border=\"1\" class=\"dataframe\">\n",
       "  <thead>\n",
       "    <tr style=\"text-align: right;\">\n",
       "      <th></th>\n",
       "      <th>area_type</th>\n",
       "      <th>location</th>\n",
       "      <th>total_sqft</th>\n",
       "      <th>bath</th>\n",
       "      <th>balcony</th>\n",
       "      <th>price</th>\n",
       "      <th>bhk</th>\n",
       "      <th>price_sqft</th>\n",
       "    </tr>\n",
       "  </thead>\n",
       "  <tbody>\n",
       "    <tr>\n",
       "      <th>1170</th>\n",
       "      <td>Built-up  Area</td>\n",
       "      <td>Sarjapur  Road</td>\n",
       "      <td>6200.0</td>\n",
       "      <td>4.0</td>\n",
       "      <td>2.0</td>\n",
       "      <td>744.0</td>\n",
       "      <td>4</td>\n",
       "      <td>12000.000000</td>\n",
       "    </tr>\n",
       "    <tr>\n",
       "      <th>942</th>\n",
       "      <td>Built-up  Area</td>\n",
       "      <td>Old Airport Road</td>\n",
       "      <td>1875.0</td>\n",
       "      <td>2.0</td>\n",
       "      <td>2.0</td>\n",
       "      <td>110.0</td>\n",
       "      <td>3</td>\n",
       "      <td>5866.666667</td>\n",
       "    </tr>\n",
       "    <tr>\n",
       "      <th>123</th>\n",
       "      <td>Super built-up  Area</td>\n",
       "      <td>Bannerghatta Road</td>\n",
       "      <td>1476.0</td>\n",
       "      <td>3.0</td>\n",
       "      <td>1.0</td>\n",
       "      <td>125.0</td>\n",
       "      <td>3</td>\n",
       "      <td>8468.834688</td>\n",
       "    </tr>\n",
       "    <tr>\n",
       "      <th>755</th>\n",
       "      <td>Super built-up  Area</td>\n",
       "      <td>Kanakpura Road</td>\n",
       "      <td>1450.0</td>\n",
       "      <td>3.0</td>\n",
       "      <td>3.0</td>\n",
       "      <td>51.0</td>\n",
       "      <td>3</td>\n",
       "      <td>3517.241379</td>\n",
       "    </tr>\n",
       "    <tr>\n",
       "      <th>1441</th>\n",
       "      <td>Super built-up  Area</td>\n",
       "      <td>others</td>\n",
       "      <td>8321.0</td>\n",
       "      <td>5.0</td>\n",
       "      <td>3.0</td>\n",
       "      <td>2700.0</td>\n",
       "      <td>5</td>\n",
       "      <td>32448.023074</td>\n",
       "    </tr>\n",
       "    <tr>\n",
       "      <th>805</th>\n",
       "      <td>Built-up  Area</td>\n",
       "      <td>Koramangala</td>\n",
       "      <td>1760.0</td>\n",
       "      <td>2.0</td>\n",
       "      <td>0.0</td>\n",
       "      <td>115.0</td>\n",
       "      <td>3</td>\n",
       "      <td>6534.090909</td>\n",
       "    </tr>\n",
       "    <tr>\n",
       "      <th>1116</th>\n",
       "      <td>Plot  Area</td>\n",
       "      <td>Sarjapur  Road</td>\n",
       "      <td>5400.0</td>\n",
       "      <td>4.0</td>\n",
       "      <td>3.0</td>\n",
       "      <td>725.0</td>\n",
       "      <td>4</td>\n",
       "      <td>13425.925926</td>\n",
       "    </tr>\n",
       "    <tr>\n",
       "      <th>360</th>\n",
       "      <td>Super built-up  Area</td>\n",
       "      <td>Green Glen Layout</td>\n",
       "      <td>1630.0</td>\n",
       "      <td>3.0</td>\n",
       "      <td>2.0</td>\n",
       "      <td>68.0</td>\n",
       "      <td>3</td>\n",
       "      <td>4171.779141</td>\n",
       "    </tr>\n",
       "  </tbody>\n",
       "</table>\n",
       "</div>"
      ],
      "text/plain": [
       "                 area_type           location  total_sqft  bath  balcony  \\\n",
       "1170        Built-up  Area     Sarjapur  Road      6200.0   4.0      2.0   \n",
       "942         Built-up  Area   Old Airport Road      1875.0   2.0      2.0   \n",
       "123   Super built-up  Area  Bannerghatta Road      1476.0   3.0      1.0   \n",
       "755   Super built-up  Area     Kanakpura Road      1450.0   3.0      3.0   \n",
       "1441  Super built-up  Area             others      8321.0   5.0      3.0   \n",
       "805         Built-up  Area        Koramangala      1760.0   2.0      0.0   \n",
       "1116            Plot  Area     Sarjapur  Road      5400.0   4.0      3.0   \n",
       "360   Super built-up  Area  Green Glen Layout      1630.0   3.0      2.0   \n",
       "\n",
       "       price  bhk    price_sqft  \n",
       "1170   744.0    4  12000.000000  \n",
       "942    110.0    3   5866.666667  \n",
       "123    125.0    3   8468.834688  \n",
       "755     51.0    3   3517.241379  \n",
       "1441  2700.0    5  32448.023074  \n",
       "805    115.0    3   6534.090909  \n",
       "1116   725.0    4  13425.925926  \n",
       "360     68.0    3   4171.779141  "
      ]
     },
     "execution_count": 47,
     "metadata": {},
     "output_type": "execute_result"
    }
   ],
   "source": [
    "def outlier_remover(df):\n",
    "    df_out = pd.DataFrame()\n",
    "    for key, subg in df3.groupby(\"location\"):\n",
    "        m = np.mean(subg.price_sqft)\n",
    "        s_d = np.std(subg.price_sqft)\n",
    "        reduced_df = subg[(subg.price_sqft > (m + s_d)) | (subg.price_sqft < (m - s_d))]\n",
    "        df_out = pd.concat([df_out, reduced_df], ignore_index = True)\n",
    "    return df_out\n",
    "\n",
    "df4 = outlier_remover(df3)\n",
    "\n",
    "df4.sample(8)"
   ]
  },
  {
   "cell_type": "code",
   "execution_count": 48,
   "id": "de84c372-7fd5-4cba-b1f7-c1b6f9fbecc8",
   "metadata": {},
   "outputs": [
    {
     "data": {
      "text/plain": [
       "(1569, 8)"
      ]
     },
     "execution_count": 48,
     "metadata": {},
     "output_type": "execute_result"
    }
   ],
   "source": [
    "df4.shape"
   ]
  },
  {
   "cell_type": "code",
   "execution_count": 49,
   "id": "fddb7352-97a6-41e8-966b-4aa61b2f7675",
   "metadata": {},
   "outputs": [
    {
     "data": {
      "text/plain": [
       "location\n",
       "others                      169\n",
       "Sarjapur  Road               68\n",
       "Thanisandra                  66\n",
       "Raja Rajeshwari Nagar        60\n",
       "Kanakpura Road               56\n",
       "Hebbal                       42\n",
       "Marathahalli                 36\n",
       "Whitefield                   36\n",
       "Electronic City Phase II     31\n",
       "Rajaji Nagar                 31\n",
       "7th Phase JP Nagar           30\n",
       "Hoodi                        29\n",
       "Uttarahalli                  21\n",
       "Old Madras Road              20\n",
       "Haralur Road                 20\n",
       "Name: count, dtype: int64"
      ]
     },
     "execution_count": 49,
     "metadata": {},
     "output_type": "execute_result"
    }
   ],
   "source": [
    "df4.location.value_counts()[:15]"
   ]
  },
  {
   "cell_type": "code",
   "execution_count": 50,
   "id": "66d3a403-f21b-4a2f-874f-ba12b5c16f18",
   "metadata": {},
   "outputs": [
    {
     "data": {
      "image/png": "[encoded data removed]",
      "text/plain": [
       "<Figure size 1500x1000 with 1 Axes>"
      ]
     },
     "metadata": {},
     "output_type": "display_data"
    }
   ],
   "source": [
    "def plot_scatter(df, location):\n",
    "    bhk2 = df[(df.location == location) & (df.bhk == 2)]\n",
    "    bhk3 = df[(df.location == location) & (df.bhk == 3)]\n",
    "    matplotlib.rcParams[\"figure.figsize\"] = (15,10)\n",
    "    plt.scatter(bhk2.total_sqft, bhk2.price, color = \"blue\", label = \"2 bhk\", s = 50)\n",
    "    plt.scatter(bhk3.total_sqft, bhk3.price, color = \"red\", marker = \"+\", label = \"3 bhk\", s = 50)\n",
    "    plt.xlabel(\"Price\")\n",
    "    plt.ylabel(\"Total_Square_Feet\")\n",
    "    plt.title(location)\n",
    "    plt.legend()\n",
    "plot_scatter(df4, \"Sarjapur  Road\")"
   ]
  },
  {
   "cell_type": "code",
   "execution_count": 51,
   "id": "e0794d1e-ca64-47f5-a959-c236e28b0059",
   "metadata": {},
   "outputs": [
    {
     "data": {
      "text/plain": [
       "(1360, 8)"
      ]
     },
     "execution_count": 51,
     "metadata": {},
     "output_type": "execute_result"
    }
   ],
   "source": [
    "def remove_bhk_outlier(df):\n",
    "    exclude_indices = np.array([])\n",
    "    for location, location_df in df.groupby(\"location\"):\n",
    "        bhk_stat = {}\n",
    "        for bhk, bhk_df in location_df.groupby(\"bhk\"):\n",
    "            bhk_stat[bhk] = {\n",
    "                \"mean\": np.mean(bhk_df.price_sqft),\n",
    "                \"std\": np.std(bhk_df.price_sqft),\n",
    "                \"count\": bhk_df.shape[0]\n",
    "            }\n",
    "        for bhk, bhk_df in location_df.groupby(\"bhk\"):\n",
    "            stats = bhk_stat.get(bhk - 1)\n",
    "            if stats and stats[\"count\"] > 5:\n",
    "                exclude_indices = np.append(exclude_indices, bhk_df[bhk_df.price_sqft < stats[\"mean\"]].index.values)\n",
    "    return df.drop(exclude_indices, axis=\"index\")\n",
    "\n",
    "df5 =remove_bhk_outlier(df4)\n",
    "\n",
    "df5.shape"
   ]
  },
  {
   "cell_type": "code",
   "execution_count": 52,
   "id": "4a585837-1f98-4d14-8e74-da6b73d16197",
   "metadata": {},
   "outputs": [
    {
     "data": {
      "image/png": "[encoded data removed]",
      "text/plain": [
       "<Figure size 1500x1000 with 1 Axes>"
      ]
     },
     "metadata": {},
     "output_type": "display_data"
    }
   ],
   "source": [
    "plot_scatter(df5, \"Sarjapur  Road\")"
   ]
  },
  {
   "cell_type": "code",
   "execution_count": 53,
   "id": "7422059c-cce5-4e97-a7b8-4e94083bbfec",
   "metadata": {},
   "outputs": [
    {
     "data": {
      "image/png": "[encoded data removed]",
      "text/plain": [
       "<Figure size 1500x1000 with 1 Axes>"
      ]
     },
     "metadata": {},
     "output_type": "display_data"
    }
   ],
   "source": [
    "plt.hist(df5.bath, rwidth=0.8)\n",
    "plt.xlabel(\"Number of Bathrooms\")\n",
    "plt.ylabel(\"Count\")\n",
    "plt.show()"
   ]
  },
  {
   "cell_type": "code",
   "execution_count": 54,
   "id": "49b9c756-5999-4a2b-8704-53711ccca98a",
   "metadata": {},
   "outputs": [
    {
     "data": {
      "text/plain": [
       "(0, 8)"
      ]
     },
     "execution_count": 54,
     "metadata": {},
     "output_type": "execute_result"
    }
   ],
   "source": [
    "df5[(df5.bath) > (df5.bhk + 2)].shape"
   ]
  },
  {
   "cell_type": "code",
   "execution_count": 55,
   "id": "b93b4902-e294-4a3a-a205-5f72ff8750c1",
   "metadata": {},
   "outputs": [
    {
     "data": {
      "text/plain": [
       "(1360, 8)"
      ]
     },
     "execution_count": 55,
     "metadata": {},
     "output_type": "execute_result"
    }
   ],
   "source": [
    "df5.shape"
   ]
  },
  {
   "cell_type": "code",
   "execution_count": 56,
   "id": "64add3fb-38ea-4675-8d73-4b88da3196d8",
   "metadata": {},
   "outputs": [
    {
     "data": {
      "text/plain": [
       "area_type        4\n",
       "location       143\n",
       "total_sqft     694\n",
       "bath             7\n",
       "balcony          4\n",
       "price          515\n",
       "bhk              6\n",
       "price_sqft    1191\n",
       "dtype: int64"
      ]
     },
     "execution_count": 56,
     "metadata": {},
     "output_type": "execute_result"
    }
   ],
   "source": [
    "df5.nunique()"
   ]
  },
  {
   "cell_type": "code",
   "execution_count": 57,
   "id": "e98aa453-88f2-4819-ad0a-c3e371bd8e80",
   "metadata": {},
   "outputs": [
    {
     "data": {
      "text/html": [
       "<div>\n",
       "<style scoped>\n",
       "    .dataframe tbody tr th:only-of-type {\n",
       "        vertical-align: middle;\n",
       "    }\n",
       "\n",
       "    .dataframe tbody tr th {\n",
       "        vertical-align: top;\n",
       "    }\n",
       "\n",
       "    .dataframe thead th {\n",
       "        text-align: right;\n",
       "    }\n",
       "</style>\n",
       "<table border=\"1\" class=\"dataframe\">\n",
       "  <thead>\n",
       "    <tr style=\"text-align: right;\">\n",
       "      <th></th>\n",
       "      <th>area_type</th>\n",
       "      <th>location</th>\n",
       "      <th>total_sqft</th>\n",
       "      <th>bath</th>\n",
       "      <th>balcony</th>\n",
       "      <th>price</th>\n",
       "      <th>bhk</th>\n",
       "      <th>price_sqft</th>\n",
       "    </tr>\n",
       "  </thead>\n",
       "  <tbody>\n",
       "    <tr>\n",
       "      <th>1223</th>\n",
       "      <td>Super built-up  Area</td>\n",
       "      <td>Thanisandra</td>\n",
       "      <td>1430.0</td>\n",
       "      <td>2.0</td>\n",
       "      <td>3.0</td>\n",
       "      <td>54.50</td>\n",
       "      <td>3</td>\n",
       "      <td>3811.188811</td>\n",
       "    </tr>\n",
       "    <tr>\n",
       "      <th>1317</th>\n",
       "      <td>Super built-up  Area</td>\n",
       "      <td>Varthur</td>\n",
       "      <td>1402.0</td>\n",
       "      <td>2.0</td>\n",
       "      <td>2.0</td>\n",
       "      <td>95.00</td>\n",
       "      <td>2</td>\n",
       "      <td>6776.034237</td>\n",
       "    </tr>\n",
       "    <tr>\n",
       "      <th>271</th>\n",
       "      <td>Super built-up  Area</td>\n",
       "      <td>Doddathoguru</td>\n",
       "      <td>984.0</td>\n",
       "      <td>2.0</td>\n",
       "      <td>1.0</td>\n",
       "      <td>51.00</td>\n",
       "      <td>2</td>\n",
       "      <td>5182.926829</td>\n",
       "    </tr>\n",
       "    <tr>\n",
       "      <th>221</th>\n",
       "      <td>Super built-up  Area</td>\n",
       "      <td>Budigere</td>\n",
       "      <td>1139.0</td>\n",
       "      <td>2.0</td>\n",
       "      <td>2.0</td>\n",
       "      <td>72.00</td>\n",
       "      <td>2</td>\n",
       "      <td>6321.334504</td>\n",
       "    </tr>\n",
       "    <tr>\n",
       "      <th>1518</th>\n",
       "      <td>Built-up  Area</td>\n",
       "      <td>others</td>\n",
       "      <td>1405.0</td>\n",
       "      <td>3.0</td>\n",
       "      <td>0.0</td>\n",
       "      <td>169.00</td>\n",
       "      <td>3</td>\n",
       "      <td>12028.469751</td>\n",
       "    </tr>\n",
       "    <tr>\n",
       "      <th>117</th>\n",
       "      <td>Super built-up  Area</td>\n",
       "      <td>Bannerghatta Road</td>\n",
       "      <td>1484.0</td>\n",
       "      <td>3.0</td>\n",
       "      <td>2.0</td>\n",
       "      <td>52.50</td>\n",
       "      <td>3</td>\n",
       "      <td>3537.735849</td>\n",
       "    </tr>\n",
       "    <tr>\n",
       "      <th>889</th>\n",
       "      <td>Super built-up  Area</td>\n",
       "      <td>Marathahalli</td>\n",
       "      <td>1937.0</td>\n",
       "      <td>3.0</td>\n",
       "      <td>2.0</td>\n",
       "      <td>140.00</td>\n",
       "      <td>3</td>\n",
       "      <td>7227.671657</td>\n",
       "    </tr>\n",
       "    <tr>\n",
       "      <th>77</th>\n",
       "      <td>Super built-up  Area</td>\n",
       "      <td>Ambalipura</td>\n",
       "      <td>860.0</td>\n",
       "      <td>2.0</td>\n",
       "      <td>1.0</td>\n",
       "      <td>28.93</td>\n",
       "      <td>2</td>\n",
       "      <td>3363.953488</td>\n",
       "    </tr>\n",
       "    <tr>\n",
       "      <th>797</th>\n",
       "      <td>Super built-up  Area</td>\n",
       "      <td>Kodihalli</td>\n",
       "      <td>3073.0</td>\n",
       "      <td>5.0</td>\n",
       "      <td>2.0</td>\n",
       "      <td>696.00</td>\n",
       "      <td>4</td>\n",
       "      <td>22648.877319</td>\n",
       "    </tr>\n",
       "    <tr>\n",
       "      <th>856</th>\n",
       "      <td>Super built-up  Area</td>\n",
       "      <td>Lakshminarayana Pura</td>\n",
       "      <td>1700.0</td>\n",
       "      <td>3.0</td>\n",
       "      <td>3.0</td>\n",
       "      <td>150.00</td>\n",
       "      <td>3</td>\n",
       "      <td>8823.529412</td>\n",
       "    </tr>\n",
       "    <tr>\n",
       "      <th>688</th>\n",
       "      <td>Built-up  Area</td>\n",
       "      <td>Kalyan nagar</td>\n",
       "      <td>1086.0</td>\n",
       "      <td>2.0</td>\n",
       "      <td>2.0</td>\n",
       "      <td>44.50</td>\n",
       "      <td>2</td>\n",
       "      <td>4097.605893</td>\n",
       "    </tr>\n",
       "    <tr>\n",
       "      <th>634</th>\n",
       "      <td>Super built-up  Area</td>\n",
       "      <td>Jigani</td>\n",
       "      <td>918.0</td>\n",
       "      <td>2.0</td>\n",
       "      <td>2.0</td>\n",
       "      <td>63.20</td>\n",
       "      <td>2</td>\n",
       "      <td>6884.531590</td>\n",
       "    </tr>\n",
       "    <tr>\n",
       "      <th>159</th>\n",
       "      <td>Super built-up  Area</td>\n",
       "      <td>Bellandur</td>\n",
       "      <td>1435.0</td>\n",
       "      <td>2.0</td>\n",
       "      <td>2.0</td>\n",
       "      <td>115.00</td>\n",
       "      <td>3</td>\n",
       "      <td>8013.937282</td>\n",
       "    </tr>\n",
       "    <tr>\n",
       "      <th>552</th>\n",
       "      <td>Super built-up  Area</td>\n",
       "      <td>Hosakerehalli</td>\n",
       "      <td>3205.0</td>\n",
       "      <td>5.0</td>\n",
       "      <td>1.0</td>\n",
       "      <td>500.00</td>\n",
       "      <td>4</td>\n",
       "      <td>15600.624025</td>\n",
       "    </tr>\n",
       "    <tr>\n",
       "      <th>179</th>\n",
       "      <td>Super built-up  Area</td>\n",
       "      <td>Bhoganhalli</td>\n",
       "      <td>1610.0</td>\n",
       "      <td>3.0</td>\n",
       "      <td>1.0</td>\n",
       "      <td>74.03</td>\n",
       "      <td>3</td>\n",
       "      <td>4598.136646</td>\n",
       "    </tr>\n",
       "    <tr>\n",
       "      <th>1128</th>\n",
       "      <td>Built-up  Area</td>\n",
       "      <td>Sarjapur  Road</td>\n",
       "      <td>1040.0</td>\n",
       "      <td>2.0</td>\n",
       "      <td>1.0</td>\n",
       "      <td>37.00</td>\n",
       "      <td>2</td>\n",
       "      <td>3557.692308</td>\n",
       "    </tr>\n",
       "    <tr>\n",
       "      <th>1061</th>\n",
       "      <td>Super built-up  Area</td>\n",
       "      <td>Rajaji Nagar</td>\n",
       "      <td>3100.0</td>\n",
       "      <td>4.0</td>\n",
       "      <td>3.0</td>\n",
       "      <td>550.00</td>\n",
       "      <td>4</td>\n",
       "      <td>17741.935484</td>\n",
       "    </tr>\n",
       "    <tr>\n",
       "      <th>170</th>\n",
       "      <td>Carpet  Area</td>\n",
       "      <td>Bhoganhalli</td>\n",
       "      <td>1451.5</td>\n",
       "      <td>4.0</td>\n",
       "      <td>1.0</td>\n",
       "      <td>121.00</td>\n",
       "      <td>4</td>\n",
       "      <td>8336.203927</td>\n",
       "    </tr>\n",
       "    <tr>\n",
       "      <th>311</th>\n",
       "      <td>Super built-up  Area</td>\n",
       "      <td>Electronic City Phase II</td>\n",
       "      <td>1065.0</td>\n",
       "      <td>2.0</td>\n",
       "      <td>1.0</td>\n",
       "      <td>56.13</td>\n",
       "      <td>2</td>\n",
       "      <td>5270.422535</td>\n",
       "    </tr>\n",
       "    <tr>\n",
       "      <th>538</th>\n",
       "      <td>Super built-up  Area</td>\n",
       "      <td>Hosa Road</td>\n",
       "      <td>1104.0</td>\n",
       "      <td>2.0</td>\n",
       "      <td>0.0</td>\n",
       "      <td>36.43</td>\n",
       "      <td>2</td>\n",
       "      <td>3299.818841</td>\n",
       "    </tr>\n",
       "  </tbody>\n",
       "</table>\n",
       "</div>"
      ],
      "text/plain": [
       "                 area_type                  location  total_sqft  bath  \\\n",
       "1223  Super built-up  Area               Thanisandra      1430.0   2.0   \n",
       "1317  Super built-up  Area                   Varthur      1402.0   2.0   \n",
       "271   Super built-up  Area              Doddathoguru       984.0   2.0   \n",
       "221   Super built-up  Area                  Budigere      1139.0   2.0   \n",
       "1518        Built-up  Area                    others      1405.0   3.0   \n",
       "117   Super built-up  Area         Bannerghatta Road      1484.0   3.0   \n",
       "889   Super built-up  Area              Marathahalli      1937.0   3.0   \n",
       "77    Super built-up  Area                Ambalipura       860.0   2.0   \n",
       "797   Super built-up  Area                 Kodihalli      3073.0   5.0   \n",
       "856   Super built-up  Area      Lakshminarayana Pura      1700.0   3.0   \n",
       "688         Built-up  Area              Kalyan nagar      1086.0   2.0   \n",
       "634   Super built-up  Area                    Jigani       918.0   2.0   \n",
       "159   Super built-up  Area                 Bellandur      1435.0   2.0   \n",
       "552   Super built-up  Area             Hosakerehalli      3205.0   5.0   \n",
       "179   Super built-up  Area               Bhoganhalli      1610.0   3.0   \n",
       "1128        Built-up  Area            Sarjapur  Road      1040.0   2.0   \n",
       "1061  Super built-up  Area              Rajaji Nagar      3100.0   4.0   \n",
       "170           Carpet  Area               Bhoganhalli      1451.5   4.0   \n",
       "311   Super built-up  Area  Electronic City Phase II      1065.0   2.0   \n",
       "538   Super built-up  Area                 Hosa Road      1104.0   2.0   \n",
       "\n",
       "      balcony   price  bhk    price_sqft  \n",
       "1223      3.0   54.50    3   3811.188811  \n",
       "1317      2.0   95.00    2   6776.034237  \n",
       "271       1.0   51.00    2   5182.926829  \n",
       "221       2.0   72.00    2   6321.334504  \n",
       "1518      0.0  169.00    3  12028.469751  \n",
       "117       2.0   52.50    3   3537.735849  \n",
       "889       2.0  140.00    3   7227.671657  \n",
       "77        1.0   28.93    2   3363.953488  \n",
       "797       2.0  696.00    4  22648.877319  \n",
       "856       3.0  150.00    3   8823.529412  \n",
       "688       2.0   44.50    2   4097.605893  \n",
       "634       2.0   63.20    2   6884.531590  \n",
       "159       2.0  115.00    3   8013.937282  \n",
       "552       1.0  500.00    4  15600.624025  \n",
       "179       1.0   74.03    3   4598.136646  \n",
       "1128      1.0   37.00    2   3557.692308  \n",
       "1061      3.0  550.00    4  17741.935484  \n",
       "170       1.0  121.00    4   8336.203927  \n",
       "311       1.0   56.13    2   5270.422535  \n",
       "538       0.0   36.43    2   3299.818841  "
      ]
     },
     "execution_count": 57,
     "metadata": {},
     "output_type": "execute_result"
    }
   ],
   "source": [
    "df5.sample(20)"
   ]
  },
  {
   "cell_type": "code",
   "execution_count": 58,
   "id": "f399985d-92fb-4ba5-abd2-eb2072933d4e",
   "metadata": {},
   "outputs": [],
   "source": [
    "df6 = df5.copy()"
   ]
  },
  {
   "cell_type": "code",
   "execution_count": 59,
   "id": "1c8d8816-483a-45e0-8808-8cb44c7b4ad3",
   "metadata": {},
   "outputs": [],
   "source": [
    "df6.drop([\"area_type\", \"price_sqft\"], axis = 1, inplace = True)"
   ]
  },
  {
   "cell_type": "code",
   "execution_count": 60,
   "id": "0f3e2a0e-66f7-4cfc-904f-51d1f5b654f7",
   "metadata": {},
   "outputs": [
    {
     "data": {
      "text/html": [
       "<div>\n",
       "<style scoped>\n",
       "    .dataframe tbody tr th:only-of-type {\n",
       "        vertical-align: middle;\n",
       "    }\n",
       "\n",
       "    .dataframe tbody tr th {\n",
       "        vertical-align: top;\n",
       "    }\n",
       "\n",
       "    .dataframe thead th {\n",
       "        text-align: right;\n",
       "    }\n",
       "</style>\n",
       "<table border=\"1\" class=\"dataframe\">\n",
       "  <thead>\n",
       "    <tr style=\"text-align: right;\">\n",
       "      <th></th>\n",
       "      <th>location</th>\n",
       "      <th>total_sqft</th>\n",
       "      <th>bath</th>\n",
       "      <th>balcony</th>\n",
       "      <th>price</th>\n",
       "      <th>bhk</th>\n",
       "    </tr>\n",
       "  </thead>\n",
       "  <tbody>\n",
       "    <tr>\n",
       "      <th>650</th>\n",
       "      <td>Kadugodi</td>\n",
       "      <td>1030.0</td>\n",
       "      <td>2.0</td>\n",
       "      <td>1.0</td>\n",
       "      <td>35.02</td>\n",
       "      <td>2</td>\n",
       "    </tr>\n",
       "    <tr>\n",
       "      <th>452</th>\n",
       "      <td>Hebbal</td>\n",
       "      <td>1072.0</td>\n",
       "      <td>2.0</td>\n",
       "      <td>2.0</td>\n",
       "      <td>45.00</td>\n",
       "      <td>2</td>\n",
       "    </tr>\n",
       "    <tr>\n",
       "      <th>1440</th>\n",
       "      <td>others</td>\n",
       "      <td>3875.0</td>\n",
       "      <td>3.0</td>\n",
       "      <td>2.0</td>\n",
       "      <td>800.00</td>\n",
       "      <td>3</td>\n",
       "    </tr>\n",
       "    <tr>\n",
       "      <th>1209</th>\n",
       "      <td>Thanisandra</td>\n",
       "      <td>1430.0</td>\n",
       "      <td>2.0</td>\n",
       "      <td>2.0</td>\n",
       "      <td>56.00</td>\n",
       "      <td>3</td>\n",
       "    </tr>\n",
       "    <tr>\n",
       "      <th>739</th>\n",
       "      <td>Kanakpura Road</td>\n",
       "      <td>1703.0</td>\n",
       "      <td>3.0</td>\n",
       "      <td>2.0</td>\n",
       "      <td>130.00</td>\n",
       "      <td>3</td>\n",
       "    </tr>\n",
       "    <tr>\n",
       "      <th>449</th>\n",
       "      <td>Hebbal</td>\n",
       "      <td>1200.0</td>\n",
       "      <td>2.0</td>\n",
       "      <td>2.0</td>\n",
       "      <td>48.00</td>\n",
       "      <td>2</td>\n",
       "    </tr>\n",
       "    <tr>\n",
       "      <th>859</th>\n",
       "      <td>Lingadheeranahalli</td>\n",
       "      <td>1687.0</td>\n",
       "      <td>3.0</td>\n",
       "      <td>3.0</td>\n",
       "      <td>127.00</td>\n",
       "      <td>3</td>\n",
       "    </tr>\n",
       "    <tr>\n",
       "      <th>422</th>\n",
       "      <td>Hebbal</td>\n",
       "      <td>1075.0</td>\n",
       "      <td>2.0</td>\n",
       "      <td>3.0</td>\n",
       "      <td>52.00</td>\n",
       "      <td>2</td>\n",
       "    </tr>\n",
       "    <tr>\n",
       "      <th>312</th>\n",
       "      <td>Electronic City Phase II</td>\n",
       "      <td>1219.0</td>\n",
       "      <td>2.0</td>\n",
       "      <td>1.0</td>\n",
       "      <td>61.26</td>\n",
       "      <td>2</td>\n",
       "    </tr>\n",
       "    <tr>\n",
       "      <th>213</th>\n",
       "      <td>Brookefield</td>\n",
       "      <td>1588.0</td>\n",
       "      <td>2.0</td>\n",
       "      <td>3.0</td>\n",
       "      <td>58.00</td>\n",
       "      <td>2</td>\n",
       "    </tr>\n",
       "  </tbody>\n",
       "</table>\n",
       "</div>"
      ],
      "text/plain": [
       "                      location  total_sqft  bath  balcony   price  bhk\n",
       "650                   Kadugodi      1030.0   2.0      1.0   35.02    2\n",
       "452                     Hebbal      1072.0   2.0      2.0   45.00    2\n",
       "1440                    others      3875.0   3.0      2.0  800.00    3\n",
       "1209               Thanisandra      1430.0   2.0      2.0   56.00    3\n",
       "739             Kanakpura Road      1703.0   3.0      2.0  130.00    3\n",
       "449                     Hebbal      1200.0   2.0      2.0   48.00    2\n",
       "859         Lingadheeranahalli      1687.0   3.0      3.0  127.00    3\n",
       "422                     Hebbal      1075.0   2.0      3.0   52.00    2\n",
       "312   Electronic City Phase II      1219.0   2.0      1.0   61.26    2\n",
       "213                Brookefield      1588.0   2.0      3.0   58.00    2"
      ]
     },
     "execution_count": 60,
     "metadata": {},
     "output_type": "execute_result"
    }
   ],
   "source": [
    "df6.sample(10)"
   ]
  },
  {
   "cell_type": "code",
   "execution_count": 61,
   "id": "b126dc40-4f00-4a46-a26d-6b6da999de0c",
   "metadata": {},
   "outputs": [],
   "source": [
    "dummies = pd.get_dummies(df6.location)"
   ]
  },
  {
   "cell_type": "code",
   "execution_count": 62,
   "id": "9158ad20-05b5-41a3-9f00-deb9d2c1165a",
   "metadata": {},
   "outputs": [
    {
     "data": {
      "text/plain": [
       "(1360, 143)"
      ]
     },
     "execution_count": 62,
     "metadata": {},
     "output_type": "execute_result"
    }
   ],
   "source": [
    "dummies.shape"
   ]
  },
  {
   "cell_type": "code",
   "execution_count": 63,
   "id": "3665ca8f-0f88-4039-adc7-55274c3531cf",
   "metadata": {},
   "outputs": [
    {
     "data": {
      "text/html": [
       "<div>\n",
       "<style scoped>\n",
       "    .dataframe tbody tr th:only-of-type {\n",
       "        vertical-align: middle;\n",
       "    }\n",
       "\n",
       "    .dataframe tbody tr th {\n",
       "        vertical-align: top;\n",
       "    }\n",
       "\n",
       "    .dataframe thead th {\n",
       "        text-align: right;\n",
       "    }\n",
       "</style>\n",
       "<table border=\"1\" class=\"dataframe\">\n",
       "  <thead>\n",
       "    <tr style=\"text-align: right;\">\n",
       "      <th></th>\n",
       "      <th>Devarabeesana Halli</th>\n",
       "      <th>Devarachikkanahalli</th>\n",
       "      <th>Thanisandra</th>\n",
       "      <th>1st Phase JP Nagar</th>\n",
       "      <th>5th Phase JP Nagar</th>\n",
       "      <th>7th Phase JP Nagar</th>\n",
       "      <th>8th Phase JP Nagar</th>\n",
       "      <th>9th Phase JP Nagar</th>\n",
       "      <th>AECS Layout</th>\n",
       "      <th>Abbigere</th>\n",
       "      <th>...</th>\n",
       "      <th>Tumkur Road</th>\n",
       "      <th>Uttarahalli</th>\n",
       "      <th>Varthur</th>\n",
       "      <th>Vijayanagar</th>\n",
       "      <th>Vittasandra</th>\n",
       "      <th>Whitefield</th>\n",
       "      <th>Yelahanka</th>\n",
       "      <th>Yelahanka New Town</th>\n",
       "      <th>Yeshwanthpur</th>\n",
       "      <th>others</th>\n",
       "    </tr>\n",
       "  </thead>\n",
       "  <tbody>\n",
       "    <tr>\n",
       "      <th>0</th>\n",
       "      <td>True</td>\n",
       "      <td>False</td>\n",
       "      <td>False</td>\n",
       "      <td>False</td>\n",
       "      <td>False</td>\n",
       "      <td>False</td>\n",
       "      <td>False</td>\n",
       "      <td>False</td>\n",
       "      <td>False</td>\n",
       "      <td>False</td>\n",
       "      <td>...</td>\n",
       "      <td>False</td>\n",
       "      <td>False</td>\n",
       "      <td>False</td>\n",
       "      <td>False</td>\n",
       "      <td>False</td>\n",
       "      <td>False</td>\n",
       "      <td>False</td>\n",
       "      <td>False</td>\n",
       "      <td>False</td>\n",
       "      <td>False</td>\n",
       "    </tr>\n",
       "    <tr>\n",
       "      <th>1</th>\n",
       "      <td>False</td>\n",
       "      <td>True</td>\n",
       "      <td>False</td>\n",
       "      <td>False</td>\n",
       "      <td>False</td>\n",
       "      <td>False</td>\n",
       "      <td>False</td>\n",
       "      <td>False</td>\n",
       "      <td>False</td>\n",
       "      <td>False</td>\n",
       "      <td>...</td>\n",
       "      <td>False</td>\n",
       "      <td>False</td>\n",
       "      <td>False</td>\n",
       "      <td>False</td>\n",
       "      <td>False</td>\n",
       "      <td>False</td>\n",
       "      <td>False</td>\n",
       "      <td>False</td>\n",
       "      <td>False</td>\n",
       "      <td>False</td>\n",
       "    </tr>\n",
       "    <tr>\n",
       "      <th>2</th>\n",
       "      <td>False</td>\n",
       "      <td>True</td>\n",
       "      <td>False</td>\n",
       "      <td>False</td>\n",
       "      <td>False</td>\n",
       "      <td>False</td>\n",
       "      <td>False</td>\n",
       "      <td>False</td>\n",
       "      <td>False</td>\n",
       "      <td>False</td>\n",
       "      <td>...</td>\n",
       "      <td>False</td>\n",
       "      <td>False</td>\n",
       "      <td>False</td>\n",
       "      <td>False</td>\n",
       "      <td>False</td>\n",
       "      <td>False</td>\n",
       "      <td>False</td>\n",
       "      <td>False</td>\n",
       "      <td>False</td>\n",
       "      <td>False</td>\n",
       "    </tr>\n",
       "    <tr>\n",
       "      <th>3</th>\n",
       "      <td>False</td>\n",
       "      <td>True</td>\n",
       "      <td>False</td>\n",
       "      <td>False</td>\n",
       "      <td>False</td>\n",
       "      <td>False</td>\n",
       "      <td>False</td>\n",
       "      <td>False</td>\n",
       "      <td>False</td>\n",
       "      <td>False</td>\n",
       "      <td>...</td>\n",
       "      <td>False</td>\n",
       "      <td>False</td>\n",
       "      <td>False</td>\n",
       "      <td>False</td>\n",
       "      <td>False</td>\n",
       "      <td>False</td>\n",
       "      <td>False</td>\n",
       "      <td>False</td>\n",
       "      <td>False</td>\n",
       "      <td>False</td>\n",
       "    </tr>\n",
       "    <tr>\n",
       "      <th>4</th>\n",
       "      <td>False</td>\n",
       "      <td>False</td>\n",
       "      <td>True</td>\n",
       "      <td>False</td>\n",
       "      <td>False</td>\n",
       "      <td>False</td>\n",
       "      <td>False</td>\n",
       "      <td>False</td>\n",
       "      <td>False</td>\n",
       "      <td>False</td>\n",
       "      <td>...</td>\n",
       "      <td>False</td>\n",
       "      <td>False</td>\n",
       "      <td>False</td>\n",
       "      <td>False</td>\n",
       "      <td>False</td>\n",
       "      <td>False</td>\n",
       "      <td>False</td>\n",
       "      <td>False</td>\n",
       "      <td>False</td>\n",
       "      <td>False</td>\n",
       "    </tr>\n",
       "  </tbody>\n",
       "</table>\n",
       "<p>5 rows × 143 columns</p>\n",
       "</div>"
      ],
      "text/plain": [
       "    Devarabeesana Halli   Devarachikkanahalli   Thanisandra  \\\n",
       "0                  True                 False         False   \n",
       "1                 False                  True         False   \n",
       "2                 False                  True         False   \n",
       "3                 False                  True         False   \n",
       "4                 False                 False          True   \n",
       "\n",
       "   1st Phase JP Nagar  5th Phase JP Nagar  7th Phase JP Nagar  \\\n",
       "0               False               False               False   \n",
       "1               False               False               False   \n",
       "2               False               False               False   \n",
       "3               False               False               False   \n",
       "4               False               False               False   \n",
       "\n",
       "   8th Phase JP Nagar  9th Phase JP Nagar  AECS Layout  Abbigere  ...  \\\n",
       "0               False               False        False     False  ...   \n",
       "1               False               False        False     False  ...   \n",
       "2               False               False        False     False  ...   \n",
       "3               False               False        False     False  ...   \n",
       "4               False               False        False     False  ...   \n",
       "\n",
       "   Tumkur Road  Uttarahalli  Varthur  Vijayanagar  Vittasandra  Whitefield  \\\n",
       "0        False        False    False        False        False       False   \n",
       "1        False        False    False        False        False       False   \n",
       "2        False        False    False        False        False       False   \n",
       "3        False        False    False        False        False       False   \n",
       "4        False        False    False        False        False       False   \n",
       "\n",
       "   Yelahanka  Yelahanka New Town  Yeshwanthpur  others  \n",
       "0      False               False         False   False  \n",
       "1      False               False         False   False  \n",
       "2      False               False         False   False  \n",
       "3      False               False         False   False  \n",
       "4      False               False         False   False  \n",
       "\n",
       "[5 rows x 143 columns]"
      ]
     },
     "execution_count": 63,
     "metadata": {},
     "output_type": "execute_result"
    }
   ],
   "source": [
    "dummies.head(5)"
   ]
  },
  {
   "cell_type": "code",
   "execution_count": 64,
   "id": "10d14a5e-09e6-4a31-956f-9a1df8b334a8",
   "metadata": {},
   "outputs": [
    {
     "data": {
      "text/plain": [
       "(1360, 148)"
      ]
     },
     "execution_count": 64,
     "metadata": {},
     "output_type": "execute_result"
    }
   ],
   "source": [
    "df7 = pd.concat([df6,dummies.drop(\"others\", axis = \"columns\")], axis = \"columns\")\n",
    "\n",
    "df7.shape"
   ]
  },
  {
   "cell_type": "code",
   "execution_count": 65,
   "id": "c53aadf9-32ac-407b-8303-54ed2d8d14ff",
   "metadata": {},
   "outputs": [
    {
     "data": {
      "text/html": [
       "<div>\n",
       "<style scoped>\n",
       "    .dataframe tbody tr th:only-of-type {\n",
       "        vertical-align: middle;\n",
       "    }\n",
       "\n",
       "    .dataframe tbody tr th {\n",
       "        vertical-align: top;\n",
       "    }\n",
       "\n",
       "    .dataframe thead th {\n",
       "        text-align: right;\n",
       "    }\n",
       "</style>\n",
       "<table border=\"1\" class=\"dataframe\">\n",
       "  <thead>\n",
       "    <tr style=\"text-align: right;\">\n",
       "      <th></th>\n",
       "      <th>location</th>\n",
       "      <th>total_sqft</th>\n",
       "      <th>bath</th>\n",
       "      <th>balcony</th>\n",
       "      <th>price</th>\n",
       "      <th>bhk</th>\n",
       "      <th>Devarabeesana Halli</th>\n",
       "      <th>Devarachikkanahalli</th>\n",
       "      <th>Thanisandra</th>\n",
       "      <th>1st Phase JP Nagar</th>\n",
       "      <th>...</th>\n",
       "      <th>Thubarahalli</th>\n",
       "      <th>Tumkur Road</th>\n",
       "      <th>Uttarahalli</th>\n",
       "      <th>Varthur</th>\n",
       "      <th>Vijayanagar</th>\n",
       "      <th>Vittasandra</th>\n",
       "      <th>Whitefield</th>\n",
       "      <th>Yelahanka</th>\n",
       "      <th>Yelahanka New Town</th>\n",
       "      <th>Yeshwanthpur</th>\n",
       "    </tr>\n",
       "  </thead>\n",
       "  <tbody>\n",
       "    <tr>\n",
       "      <th>473</th>\n",
       "      <td>Hennur</td>\n",
       "      <td>1482.0</td>\n",
       "      <td>3.0</td>\n",
       "      <td>1.0</td>\n",
       "      <td>110.00</td>\n",
       "      <td>3</td>\n",
       "      <td>False</td>\n",
       "      <td>False</td>\n",
       "      <td>False</td>\n",
       "      <td>False</td>\n",
       "      <td>...</td>\n",
       "      <td>False</td>\n",
       "      <td>False</td>\n",
       "      <td>False</td>\n",
       "      <td>False</td>\n",
       "      <td>False</td>\n",
       "      <td>False</td>\n",
       "      <td>False</td>\n",
       "      <td>False</td>\n",
       "      <td>False</td>\n",
       "      <td>False</td>\n",
       "    </tr>\n",
       "    <tr>\n",
       "      <th>501</th>\n",
       "      <td>Hoodi</td>\n",
       "      <td>1132.0</td>\n",
       "      <td>2.0</td>\n",
       "      <td>1.0</td>\n",
       "      <td>89.37</td>\n",
       "      <td>2</td>\n",
       "      <td>False</td>\n",
       "      <td>False</td>\n",
       "      <td>False</td>\n",
       "      <td>False</td>\n",
       "      <td>...</td>\n",
       "      <td>False</td>\n",
       "      <td>False</td>\n",
       "      <td>False</td>\n",
       "      <td>False</td>\n",
       "      <td>False</td>\n",
       "      <td>False</td>\n",
       "      <td>False</td>\n",
       "      <td>False</td>\n",
       "      <td>False</td>\n",
       "      <td>False</td>\n",
       "    </tr>\n",
       "    <tr>\n",
       "      <th>1029</th>\n",
       "      <td>Raja Rajeshwari Nagar</td>\n",
       "      <td>1550.0</td>\n",
       "      <td>3.0</td>\n",
       "      <td>1.0</td>\n",
       "      <td>86.80</td>\n",
       "      <td>3</td>\n",
       "      <td>False</td>\n",
       "      <td>False</td>\n",
       "      <td>False</td>\n",
       "      <td>False</td>\n",
       "      <td>...</td>\n",
       "      <td>False</td>\n",
       "      <td>False</td>\n",
       "      <td>False</td>\n",
       "      <td>False</td>\n",
       "      <td>False</td>\n",
       "      <td>False</td>\n",
       "      <td>False</td>\n",
       "      <td>False</td>\n",
       "      <td>False</td>\n",
       "      <td>False</td>\n",
       "    </tr>\n",
       "    <tr>\n",
       "      <th>1425</th>\n",
       "      <td>others</td>\n",
       "      <td>2204.0</td>\n",
       "      <td>2.0</td>\n",
       "      <td>3.0</td>\n",
       "      <td>305.00</td>\n",
       "      <td>3</td>\n",
       "      <td>False</td>\n",
       "      <td>False</td>\n",
       "      <td>False</td>\n",
       "      <td>False</td>\n",
       "      <td>...</td>\n",
       "      <td>False</td>\n",
       "      <td>False</td>\n",
       "      <td>False</td>\n",
       "      <td>False</td>\n",
       "      <td>False</td>\n",
       "      <td>False</td>\n",
       "      <td>False</td>\n",
       "      <td>False</td>\n",
       "      <td>False</td>\n",
       "      <td>False</td>\n",
       "    </tr>\n",
       "    <tr>\n",
       "      <th>786</th>\n",
       "      <td>Kengeri Satellite Town</td>\n",
       "      <td>1072.0</td>\n",
       "      <td>2.0</td>\n",
       "      <td>1.0</td>\n",
       "      <td>25.00</td>\n",
       "      <td>2</td>\n",
       "      <td>False</td>\n",
       "      <td>False</td>\n",
       "      <td>False</td>\n",
       "      <td>False</td>\n",
       "      <td>...</td>\n",
       "      <td>False</td>\n",
       "      <td>False</td>\n",
       "      <td>False</td>\n",
       "      <td>False</td>\n",
       "      <td>False</td>\n",
       "      <td>False</td>\n",
       "      <td>False</td>\n",
       "      <td>False</td>\n",
       "      <td>False</td>\n",
       "      <td>False</td>\n",
       "    </tr>\n",
       "    <tr>\n",
       "      <th>1298</th>\n",
       "      <td>Uttarahalli</td>\n",
       "      <td>1150.0</td>\n",
       "      <td>2.0</td>\n",
       "      <td>2.0</td>\n",
       "      <td>70.00</td>\n",
       "      <td>2</td>\n",
       "      <td>False</td>\n",
       "      <td>False</td>\n",
       "      <td>False</td>\n",
       "      <td>False</td>\n",
       "      <td>...</td>\n",
       "      <td>False</td>\n",
       "      <td>False</td>\n",
       "      <td>True</td>\n",
       "      <td>False</td>\n",
       "      <td>False</td>\n",
       "      <td>False</td>\n",
       "      <td>False</td>\n",
       "      <td>False</td>\n",
       "      <td>False</td>\n",
       "      <td>False</td>\n",
       "    </tr>\n",
       "    <tr>\n",
       "      <th>1008</th>\n",
       "      <td>Raja Rajeshwari Nagar</td>\n",
       "      <td>1120.0</td>\n",
       "      <td>2.0</td>\n",
       "      <td>2.0</td>\n",
       "      <td>37.97</td>\n",
       "      <td>2</td>\n",
       "      <td>False</td>\n",
       "      <td>False</td>\n",
       "      <td>False</td>\n",
       "      <td>False</td>\n",
       "      <td>...</td>\n",
       "      <td>False</td>\n",
       "      <td>False</td>\n",
       "      <td>False</td>\n",
       "      <td>False</td>\n",
       "      <td>False</td>\n",
       "      <td>False</td>\n",
       "      <td>False</td>\n",
       "      <td>False</td>\n",
       "      <td>False</td>\n",
       "      <td>False</td>\n",
       "    </tr>\n",
       "    <tr>\n",
       "      <th>711</th>\n",
       "      <td>Kanakpura Road</td>\n",
       "      <td>1673.0</td>\n",
       "      <td>3.0</td>\n",
       "      <td>2.0</td>\n",
       "      <td>115.00</td>\n",
       "      <td>3</td>\n",
       "      <td>False</td>\n",
       "      <td>False</td>\n",
       "      <td>False</td>\n",
       "      <td>False</td>\n",
       "      <td>...</td>\n",
       "      <td>False</td>\n",
       "      <td>False</td>\n",
       "      <td>False</td>\n",
       "      <td>False</td>\n",
       "      <td>False</td>\n",
       "      <td>False</td>\n",
       "      <td>False</td>\n",
       "      <td>False</td>\n",
       "      <td>False</td>\n",
       "      <td>False</td>\n",
       "    </tr>\n",
       "    <tr>\n",
       "      <th>827</th>\n",
       "      <td>Kudlu</td>\n",
       "      <td>1700.0</td>\n",
       "      <td>3.0</td>\n",
       "      <td>3.0</td>\n",
       "      <td>125.00</td>\n",
       "      <td>3</td>\n",
       "      <td>False</td>\n",
       "      <td>False</td>\n",
       "      <td>False</td>\n",
       "      <td>False</td>\n",
       "      <td>...</td>\n",
       "      <td>False</td>\n",
       "      <td>False</td>\n",
       "      <td>False</td>\n",
       "      <td>False</td>\n",
       "      <td>False</td>\n",
       "      <td>False</td>\n",
       "      <td>False</td>\n",
       "      <td>False</td>\n",
       "      <td>False</td>\n",
       "      <td>False</td>\n",
       "    </tr>\n",
       "    <tr>\n",
       "      <th>192</th>\n",
       "      <td>Bisuvanahalli</td>\n",
       "      <td>1075.0</td>\n",
       "      <td>2.0</td>\n",
       "      <td>1.0</td>\n",
       "      <td>31.00</td>\n",
       "      <td>3</td>\n",
       "      <td>False</td>\n",
       "      <td>False</td>\n",
       "      <td>False</td>\n",
       "      <td>False</td>\n",
       "      <td>...</td>\n",
       "      <td>False</td>\n",
       "      <td>False</td>\n",
       "      <td>False</td>\n",
       "      <td>False</td>\n",
       "      <td>False</td>\n",
       "      <td>False</td>\n",
       "      <td>False</td>\n",
       "      <td>False</td>\n",
       "      <td>False</td>\n",
       "      <td>False</td>\n",
       "    </tr>\n",
       "    <tr>\n",
       "      <th>182</th>\n",
       "      <td>Billekahalli</td>\n",
       "      <td>1035.0</td>\n",
       "      <td>2.0</td>\n",
       "      <td>2.0</td>\n",
       "      <td>90.00</td>\n",
       "      <td>2</td>\n",
       "      <td>False</td>\n",
       "      <td>False</td>\n",
       "      <td>False</td>\n",
       "      <td>False</td>\n",
       "      <td>...</td>\n",
       "      <td>False</td>\n",
       "      <td>False</td>\n",
       "      <td>False</td>\n",
       "      <td>False</td>\n",
       "      <td>False</td>\n",
       "      <td>False</td>\n",
       "      <td>False</td>\n",
       "      <td>False</td>\n",
       "      <td>False</td>\n",
       "      <td>False</td>\n",
       "    </tr>\n",
       "    <tr>\n",
       "      <th>525</th>\n",
       "      <td>Hormavu</td>\n",
       "      <td>1050.0</td>\n",
       "      <td>2.0</td>\n",
       "      <td>1.0</td>\n",
       "      <td>77.00</td>\n",
       "      <td>2</td>\n",
       "      <td>False</td>\n",
       "      <td>False</td>\n",
       "      <td>False</td>\n",
       "      <td>False</td>\n",
       "      <td>...</td>\n",
       "      <td>False</td>\n",
       "      <td>False</td>\n",
       "      <td>False</td>\n",
       "      <td>False</td>\n",
       "      <td>False</td>\n",
       "      <td>False</td>\n",
       "      <td>False</td>\n",
       "      <td>False</td>\n",
       "      <td>False</td>\n",
       "      <td>False</td>\n",
       "    </tr>\n",
       "    <tr>\n",
       "      <th>1151</th>\n",
       "      <td>Sarjapur  Road</td>\n",
       "      <td>4000.0</td>\n",
       "      <td>5.0</td>\n",
       "      <td>1.0</td>\n",
       "      <td>578.00</td>\n",
       "      <td>4</td>\n",
       "      <td>False</td>\n",
       "      <td>False</td>\n",
       "      <td>False</td>\n",
       "      <td>False</td>\n",
       "      <td>...</td>\n",
       "      <td>False</td>\n",
       "      <td>False</td>\n",
       "      <td>False</td>\n",
       "      <td>False</td>\n",
       "      <td>False</td>\n",
       "      <td>False</td>\n",
       "      <td>False</td>\n",
       "      <td>False</td>\n",
       "      <td>False</td>\n",
       "      <td>False</td>\n",
       "    </tr>\n",
       "    <tr>\n",
       "      <th>1112</th>\n",
       "      <td>Sarjapur  Road</td>\n",
       "      <td>1215.0</td>\n",
       "      <td>2.0</td>\n",
       "      <td>2.0</td>\n",
       "      <td>110.00</td>\n",
       "      <td>2</td>\n",
       "      <td>False</td>\n",
       "      <td>False</td>\n",
       "      <td>False</td>\n",
       "      <td>False</td>\n",
       "      <td>...</td>\n",
       "      <td>False</td>\n",
       "      <td>False</td>\n",
       "      <td>False</td>\n",
       "      <td>False</td>\n",
       "      <td>False</td>\n",
       "      <td>False</td>\n",
       "      <td>False</td>\n",
       "      <td>False</td>\n",
       "      <td>False</td>\n",
       "      <td>False</td>\n",
       "    </tr>\n",
       "  </tbody>\n",
       "</table>\n",
       "<p>14 rows × 148 columns</p>\n",
       "</div>"
      ],
      "text/plain": [
       "                    location  total_sqft  bath  balcony   price  bhk  \\\n",
       "473                   Hennur      1482.0   3.0      1.0  110.00    3   \n",
       "501                    Hoodi      1132.0   2.0      1.0   89.37    2   \n",
       "1029   Raja Rajeshwari Nagar      1550.0   3.0      1.0   86.80    3   \n",
       "1425                  others      2204.0   2.0      3.0  305.00    3   \n",
       "786   Kengeri Satellite Town      1072.0   2.0      1.0   25.00    2   \n",
       "1298             Uttarahalli      1150.0   2.0      2.0   70.00    2   \n",
       "1008   Raja Rajeshwari Nagar      1120.0   2.0      2.0   37.97    2   \n",
       "711           Kanakpura Road      1673.0   3.0      2.0  115.00    3   \n",
       "827                    Kudlu      1700.0   3.0      3.0  125.00    3   \n",
       "192            Bisuvanahalli      1075.0   2.0      1.0   31.00    3   \n",
       "182             Billekahalli      1035.0   2.0      2.0   90.00    2   \n",
       "525                  Hormavu      1050.0   2.0      1.0   77.00    2   \n",
       "1151          Sarjapur  Road      4000.0   5.0      1.0  578.00    4   \n",
       "1112          Sarjapur  Road      1215.0   2.0      2.0  110.00    2   \n",
       "\n",
       "       Devarabeesana Halli   Devarachikkanahalli   Thanisandra  \\\n",
       "473                  False                 False         False   \n",
       "501                  False                 False         False   \n",
       "1029                 False                 False         False   \n",
       "1425                 False                 False         False   \n",
       "786                  False                 False         False   \n",
       "1298                 False                 False         False   \n",
       "1008                 False                 False         False   \n",
       "711                  False                 False         False   \n",
       "827                  False                 False         False   \n",
       "192                  False                 False         False   \n",
       "182                  False                 False         False   \n",
       "525                  False                 False         False   \n",
       "1151                 False                 False         False   \n",
       "1112                 False                 False         False   \n",
       "\n",
       "      1st Phase JP Nagar  ...  Thubarahalli  Tumkur Road  Uttarahalli  \\\n",
       "473                False  ...         False        False        False   \n",
       "501                False  ...         False        False        False   \n",
       "1029               False  ...         False        False        False   \n",
       "1425               False  ...         False        False        False   \n",
       "786                False  ...         False        False        False   \n",
       "1298               False  ...         False        False         True   \n",
       "1008               False  ...         False        False        False   \n",
       "711                False  ...         False        False        False   \n",
       "827                False  ...         False        False        False   \n",
       "192                False  ...         False        False        False   \n",
       "182                False  ...         False        False        False   \n",
       "525                False  ...         False        False        False   \n",
       "1151               False  ...         False        False        False   \n",
       "1112               False  ...         False        False        False   \n",
       "\n",
       "      Varthur  Vijayanagar  Vittasandra  Whitefield  Yelahanka  \\\n",
       "473     False        False        False       False      False   \n",
       "501     False        False        False       False      False   \n",
       "1029    False        False        False       False      False   \n",
       "1425    False        False        False       False      False   \n",
       "786     False        False        False       False      False   \n",
       "1298    False        False        False       False      False   \n",
       "1008    False        False        False       False      False   \n",
       "711     False        False        False       False      False   \n",
       "827     False        False        False       False      False   \n",
       "192     False        False        False       False      False   \n",
       "182     False        False        False       False      False   \n",
       "525     False        False        False       False      False   \n",
       "1151    False        False        False       False      False   \n",
       "1112    False        False        False       False      False   \n",
       "\n",
       "      Yelahanka New Town  Yeshwanthpur  \n",
       "473                False         False  \n",
       "501                False         False  \n",
       "1029               False         False  \n",
       "1425               False         False  \n",
       "786                False         False  \n",
       "1298               False         False  \n",
       "1008               False         False  \n",
       "711                False         False  \n",
       "827                False         False  \n",
       "192                False         False  \n",
       "182                False         False  \n",
       "525                False         False  \n",
       "1151               False         False  \n",
       "1112               False         False  \n",
       "\n",
       "[14 rows x 148 columns]"
      ]
     },
     "execution_count": 65,
     "metadata": {},
     "output_type": "execute_result"
    }
   ],
   "source": [
    "df7.sample(14)"
   ]
  },
  {
   "cell_type": "code",
   "execution_count": 66,
   "id": "5775559d-52d3-4a99-935d-97b482285c10",
   "metadata": {},
   "outputs": [
    {
     "data": {
      "text/html": [
       "<div>\n",
       "<style scoped>\n",
       "    .dataframe tbody tr th:only-of-type {\n",
       "        vertical-align: middle;\n",
       "    }\n",
       "\n",
       "    .dataframe tbody tr th {\n",
       "        vertical-align: top;\n",
       "    }\n",
       "\n",
       "    .dataframe thead th {\n",
       "        text-align: right;\n",
       "    }\n",
       "</style>\n",
       "<table border=\"1\" class=\"dataframe\">\n",
       "  <thead>\n",
       "    <tr style=\"text-align: right;\">\n",
       "      <th></th>\n",
       "      <th>total_sqft</th>\n",
       "      <th>bath</th>\n",
       "      <th>balcony</th>\n",
       "      <th>bhk</th>\n",
       "      <th>Devarabeesana Halli</th>\n",
       "      <th>Devarachikkanahalli</th>\n",
       "      <th>Thanisandra</th>\n",
       "      <th>1st Phase JP Nagar</th>\n",
       "      <th>5th Phase JP Nagar</th>\n",
       "      <th>7th Phase JP Nagar</th>\n",
       "      <th>...</th>\n",
       "      <th>Thubarahalli</th>\n",
       "      <th>Tumkur Road</th>\n",
       "      <th>Uttarahalli</th>\n",
       "      <th>Varthur</th>\n",
       "      <th>Vijayanagar</th>\n",
       "      <th>Vittasandra</th>\n",
       "      <th>Whitefield</th>\n",
       "      <th>Yelahanka</th>\n",
       "      <th>Yelahanka New Town</th>\n",
       "      <th>Yeshwanthpur</th>\n",
       "    </tr>\n",
       "  </thead>\n",
       "  <tbody>\n",
       "    <tr>\n",
       "      <th>0</th>\n",
       "      <td>1670.0</td>\n",
       "      <td>3.0</td>\n",
       "      <td>2.0</td>\n",
       "      <td>3</td>\n",
       "      <td>True</td>\n",
       "      <td>False</td>\n",
       "      <td>False</td>\n",
       "      <td>False</td>\n",
       "      <td>False</td>\n",
       "      <td>False</td>\n",
       "      <td>...</td>\n",
       "      <td>False</td>\n",
       "      <td>False</td>\n",
       "      <td>False</td>\n",
       "      <td>False</td>\n",
       "      <td>False</td>\n",
       "      <td>False</td>\n",
       "      <td>False</td>\n",
       "      <td>False</td>\n",
       "      <td>False</td>\n",
       "      <td>False</td>\n",
       "    </tr>\n",
       "    <tr>\n",
       "      <th>1</th>\n",
       "      <td>1250.0</td>\n",
       "      <td>2.0</td>\n",
       "      <td>2.0</td>\n",
       "      <td>2</td>\n",
       "      <td>False</td>\n",
       "      <td>True</td>\n",
       "      <td>False</td>\n",
       "      <td>False</td>\n",
       "      <td>False</td>\n",
       "      <td>False</td>\n",
       "      <td>...</td>\n",
       "      <td>False</td>\n",
       "      <td>False</td>\n",
       "      <td>False</td>\n",
       "      <td>False</td>\n",
       "      <td>False</td>\n",
       "      <td>False</td>\n",
       "      <td>False</td>\n",
       "      <td>False</td>\n",
       "      <td>False</td>\n",
       "      <td>False</td>\n",
       "    </tr>\n",
       "    <tr>\n",
       "      <th>2</th>\n",
       "      <td>1130.0</td>\n",
       "      <td>2.0</td>\n",
       "      <td>2.0</td>\n",
       "      <td>2</td>\n",
       "      <td>False</td>\n",
       "      <td>True</td>\n",
       "      <td>False</td>\n",
       "      <td>False</td>\n",
       "      <td>False</td>\n",
       "      <td>False</td>\n",
       "      <td>...</td>\n",
       "      <td>False</td>\n",
       "      <td>False</td>\n",
       "      <td>False</td>\n",
       "      <td>False</td>\n",
       "      <td>False</td>\n",
       "      <td>False</td>\n",
       "      <td>False</td>\n",
       "      <td>False</td>\n",
       "      <td>False</td>\n",
       "      <td>False</td>\n",
       "    </tr>\n",
       "    <tr>\n",
       "      <th>3</th>\n",
       "      <td>1230.0</td>\n",
       "      <td>2.0</td>\n",
       "      <td>1.0</td>\n",
       "      <td>2</td>\n",
       "      <td>False</td>\n",
       "      <td>True</td>\n",
       "      <td>False</td>\n",
       "      <td>False</td>\n",
       "      <td>False</td>\n",
       "      <td>False</td>\n",
       "      <td>...</td>\n",
       "      <td>False</td>\n",
       "      <td>False</td>\n",
       "      <td>False</td>\n",
       "      <td>False</td>\n",
       "      <td>False</td>\n",
       "      <td>False</td>\n",
       "      <td>False</td>\n",
       "      <td>False</td>\n",
       "      <td>False</td>\n",
       "      <td>False</td>\n",
       "    </tr>\n",
       "    <tr>\n",
       "      <th>4</th>\n",
       "      <td>445.0</td>\n",
       "      <td>1.0</td>\n",
       "      <td>0.0</td>\n",
       "      <td>1</td>\n",
       "      <td>False</td>\n",
       "      <td>False</td>\n",
       "      <td>True</td>\n",
       "      <td>False</td>\n",
       "      <td>False</td>\n",
       "      <td>False</td>\n",
       "      <td>...</td>\n",
       "      <td>False</td>\n",
       "      <td>False</td>\n",
       "      <td>False</td>\n",
       "      <td>False</td>\n",
       "      <td>False</td>\n",
       "      <td>False</td>\n",
       "      <td>False</td>\n",
       "      <td>False</td>\n",
       "      <td>False</td>\n",
       "      <td>False</td>\n",
       "    </tr>\n",
       "  </tbody>\n",
       "</table>\n",
       "<p>5 rows × 146 columns</p>\n",
       "</div>"
      ],
      "text/plain": [
       "   total_sqft  bath  balcony  bhk   Devarabeesana Halli   Devarachikkanahalli  \\\n",
       "0      1670.0   3.0      2.0    3                  True                 False   \n",
       "1      1250.0   2.0      2.0    2                 False                  True   \n",
       "2      1130.0   2.0      2.0    2                 False                  True   \n",
       "3      1230.0   2.0      1.0    2                 False                  True   \n",
       "4       445.0   1.0      0.0    1                 False                 False   \n",
       "\n",
       "    Thanisandra  1st Phase JP Nagar  5th Phase JP Nagar  7th Phase JP Nagar  \\\n",
       "0         False               False               False               False   \n",
       "1         False               False               False               False   \n",
       "2         False               False               False               False   \n",
       "3         False               False               False               False   \n",
       "4          True               False               False               False   \n",
       "\n",
       "   ...  Thubarahalli  Tumkur Road  Uttarahalli  Varthur  Vijayanagar  \\\n",
       "0  ...         False        False        False    False        False   \n",
       "1  ...         False        False        False    False        False   \n",
       "2  ...         False        False        False    False        False   \n",
       "3  ...         False        False        False    False        False   \n",
       "4  ...         False        False        False    False        False   \n",
       "\n",
       "   Vittasandra  Whitefield  Yelahanka  Yelahanka New Town  Yeshwanthpur  \n",
       "0        False       False      False               False         False  \n",
       "1        False       False      False               False         False  \n",
       "2        False       False      False               False         False  \n",
       "3        False       False      False               False         False  \n",
       "4        False       False      False               False         False  \n",
       "\n",
       "[5 rows x 146 columns]"
      ]
     },
     "execution_count": 66,
     "metadata": {},
     "output_type": "execute_result"
    }
   ],
   "source": [
    "x = df7.drop([\"price\", \"location\"], axis = \"columns\")\n",
    "\n",
    "x.head()"
   ]
  },
  {
   "cell_type": "code",
   "execution_count": 67,
   "id": "e3b19d85-fa7a-45aa-b10a-54a0883460cf",
   "metadata": {},
   "outputs": [
    {
     "data": {
      "text/plain": [
       "0    160.0\n",
       "1     40.0\n",
       "2     36.0\n",
       "3     58.0\n",
       "4     28.0\n",
       "Name: price, dtype: float64"
      ]
     },
     "execution_count": 67,
     "metadata": {},
     "output_type": "execute_result"
    }
   ],
   "source": [
    "y = df7.price\n",
    "y.head()"
   ]
  },
  {
   "cell_type": "code",
   "execution_count": 68,
   "id": "28252611-04ee-4f13-87b4-01c7931c3186",
   "metadata": {},
   "outputs": [],
   "source": [
    "from sklearn.model_selection import train_test_split\n",
    "\n",
    "x_train, x_test, y_train, y_test = train_test_split(x,y, test_size = 0.2, random_state = 42)"
   ]
  },
  {
   "cell_type": "code",
   "execution_count": 69,
   "id": "34a48c89-08aa-45dd-a592-6de942c5d01d",
   "metadata": {},
   "outputs": [
    {
     "data": {
      "text/plain": [
       "0.8585828268701319"
      ]
     },
     "execution_count": 69,
     "metadata": {},
     "output_type": "execute_result"
    }
   ],
   "source": [
    "from sklearn.linear_model import LinearRegression\n",
    "\n",
    "lr_clf = LinearRegression()\n",
    "lr_clf.fit(x_train, y_train)\n",
    "lr_clf.score(x_test, y_test)"
   ]
  },
  {
   "cell_type": "code",
   "execution_count": 70,
   "id": "90f8d62c-01ac-48da-917d-ce20c61c6409",
   "metadata": {},
   "outputs": [
    {
     "data": {
      "text/plain": [
       "array([0.78084507, 0.70828697, 0.76365026, 0.81443269, 0.61904457])"
      ]
     },
     "execution_count": 70,
     "metadata": {},
     "output_type": "execute_result"
    }
   ],
   "source": [
    "from sklearn.model_selection import ShuffleSplit, KFold\n",
    "from sklearn.model_selection import cross_val_score\n",
    "\n",
    "cv = ShuffleSplit(n_splits=5, test_size = 0.2, random_state = 10)\n",
    "\n",
    "cross_val_score(LinearRegression(), x, y, cv = cv)"
   ]
  },
  {
   "cell_type": "code",
   "execution_count": 71,
   "id": "ac0ad896-f3a0-4091-a31c-42ffb12dc178",
   "metadata": {},
   "outputs": [
    {
     "data": {
      "text/plain": [
       "array([0.85858283, 0.78419727, 0.81413013, 0.58415454, 0.71314956])"
      ]
     },
     "execution_count": 71,
     "metadata": {},
     "output_type": "execute_result"
    }
   ],
   "source": [
    "kv = KFold(n_splits = 5, shuffle = True, random_state = 42)\n",
    "\n",
    "cross_val_score(LinearRegression(), x, y, cv = kv)"
   ]
  },
  {
   "cell_type": "code",
   "execution_count": 72,
   "id": "3f12b11c-4970-49ce-886f-dffc2a2a1424",
   "metadata": {},
   "outputs": [
    {
     "name": "stdout",
     "output_type": "stream",
     "text": [
      "Lasso: 0.7930621827467847\n",
      "RandomForestRegressor: 0.7746397816601718\n",
      "DecisionTreeRegressor: 0.6613849010575169\n"
     ]
    }
   ],
   "source": [
    "from sklearn.linear_model import Lasso\n",
    "from sklearn.tree import DecisionTreeRegressor\n",
    "from sklearn.ensemble import RandomForestRegressor\n",
    "\n",
    "models = [Lasso(), DecisionTreeRegressor(), RandomForestRegressor()]\n",
    "scores = []\n",
    "\n",
    "for model in models:\n",
    "    model.fit(x_train, y_train)\n",
    "    model_score = model.score(x_test, y_test)\n",
    "    scores.append((model, model_score))\n",
    "\n",
    "# Sort the scores in descending order\n",
    "scores.sort(key=lambda x: x[1], reverse=True)\n",
    "\n",
    "# Print the scores\n",
    "for model, score in scores:\n",
    "    print(f\"{model.__class__.__name__}: {score}\")\n"
   ]
  },
  {
   "cell_type": "code",
   "execution_count": 73,
   "id": "86a5fad7-1766-4499-896d-4421ee3192e3",
   "metadata": {},
   "outputs": [
    {
     "data": {
      "text/plain": [
       "Index(['total_sqft', 'bath', 'balcony', 'bhk', ' Devarabeesana Halli',\n",
       "       ' Devarachikkanahalli', ' Thanisandra', '1st Phase JP Nagar',\n",
       "       '5th Phase JP Nagar', '7th Phase JP Nagar',\n",
       "       ...\n",
       "       'Thubarahalli', 'Tumkur Road', 'Uttarahalli', 'Varthur', 'Vijayanagar',\n",
       "       'Vittasandra', 'Whitefield', 'Yelahanka', 'Yelahanka New Town',\n",
       "       'Yeshwanthpur'],\n",
       "      dtype='object', length=146)"
      ]
     },
     "execution_count": 73,
     "metadata": {},
     "output_type": "execute_result"
    }
   ],
   "source": [
    "x.columns"
   ]
  },
  {
   "cell_type": "code",
   "execution_count": 74,
   "id": "bf82f244-ff5f-41f8-83dd-f6b49b175868",
   "metadata": {},
   "outputs": [],
   "source": [
    "def predict_price(location, total_sqft, bath, bhk):\n",
    "    loc_index = np.where(x.columns == location)[0][0]\n",
    "\n",
    "    input_features = np.zeros(len(x.columns))\n",
    "    input_features[0] = total_sqft\n",
    "    input_features[1] = bath\n",
    "    input_features[2] = bhk\n",
    "    if loc_index >= 0:\n",
    "        input_features[loc_index] = 1\n",
    "\n",
    "    return lr_clf.predict([input_features])[0]"
   ]
  },
  {
   "cell_type": "code",
   "execution_count": 75,
   "id": "2cbc7213-7c9d-46d1-a1ed-233cf790a6de",
   "metadata": {},
   "outputs": [
    {
     "name": "stderr",
     "output_type": "stream",
     "text": [
      "C:\\Users\\Mehak\\anaconda3\\Lib\\site-packages\\sklearn\\utils\\validation.py:2749: UserWarning: X does not have valid feature names, but LinearRegression was fitted with feature names\n",
      "  warnings.warn(\n"
     ]
    },
    {
     "data": {
      "text/plain": [
       "72.69931776131662"
      ]
     },
     "execution_count": 75,
     "metadata": {},
     "output_type": "execute_result"
    }
   ],
   "source": [
    "predict_price('1st Phase JP Nagar', 1000, 2, 2)"
   ]
  },
  {
   "cell_type": "code",
   "execution_count": 76,
   "id": "4c52ab6f-17ee-499e-9e5c-1a6220d0ac06",
   "metadata": {},
   "outputs": [
    {
     "name": "stderr",
     "output_type": "stream",
     "text": [
      "C:\\Users\\Mehak\\anaconda3\\Lib\\site-packages\\sklearn\\utils\\validation.py:2749: UserWarning: X does not have valid feature names, but LinearRegression was fitted with feature names\n",
      "  warnings.warn(\n"
     ]
    },
    {
     "data": {
      "text/plain": [
       "75.92140187958495"
      ]
     },
     "execution_count": 76,
     "metadata": {},
     "output_type": "execute_result"
    }
   ],
   "source": [
    "predict_price('1st Phase JP Nagar', 1000, 2, 3)"
   ]
  },
  {
   "cell_type": "code",
   "execution_count": 77,
   "id": "312d952f-97e8-42b4-8f23-0884fbd849db",
   "metadata": {},
   "outputs": [
    {
     "name": "stderr",
     "output_type": "stream",
     "text": [
      "C:\\Users\\Mehak\\anaconda3\\Lib\\site-packages\\sklearn\\utils\\validation.py:2749: UserWarning: X does not have valid feature names, but LinearRegression was fitted with feature names\n",
      "  warnings.warn(\n"
     ]
    },
    {
     "data": {
      "text/plain": [
       "89.89427271490324"
      ]
     },
     "execution_count": 77,
     "metadata": {},
     "output_type": "execute_result"
    }
   ],
   "source": [
    "predict_price('Indira Nagar', 1000, 2, 2)"
   ]
  },
  {
   "cell_type": "code",
   "execution_count": 78,
   "id": "6c7ab2d0-f144-4bca-9d6d-d119dd5d9144",
   "metadata": {},
   "outputs": [
    {
     "name": "stderr",
     "output_type": "stream",
     "text": [
      "C:\\Users\\Mehak\\anaconda3\\Lib\\site-packages\\sklearn\\utils\\validation.py:2749: UserWarning: X does not have valid feature names, but LinearRegression was fitted with feature names\n",
      "  warnings.warn(\n"
     ]
    },
    {
     "data": {
      "text/plain": [
       "115.67592137955289"
      ]
     },
     "execution_count": 78,
     "metadata": {},
     "output_type": "execute_result"
    }
   ],
   "source": [
    "predict_price('Indira Nagar', 1149, 2, 2)"
   ]
  },
  {
   "cell_type": "code",
   "execution_count": 79,
   "id": "261fbfa8-16d7-4f6e-88fb-dd16f33af119",
   "metadata": {},
   "outputs": [
    {
     "name": "stdout",
     "output_type": "stream",
     "text": [
      "                  area_type      location  total_sqft  bath  balcony  price  \\\n",
      "1128   Super built-up  Area  Indira Nagar      1128.0   2.0      2.0  105.0   \n",
      "3260         Built-up  Area  Indira Nagar      1210.0   2.0      1.0  102.0   \n",
      "3308         Built-up  Area  Indira Nagar      1224.0   2.0      2.0  105.0   \n",
      "3918   Super built-up  Area  Indira Nagar      1400.0   2.0      2.0  168.0   \n",
      "4795   Super built-up  Area  Indira Nagar      1145.0   2.0      2.0  100.0   \n",
      "5022   Super built-up  Area  Indira Nagar      1470.0   2.0      2.0  170.0   \n",
      "7722   Super built-up  Area  Indira Nagar      1475.0   2.0      2.0  171.0   \n",
      "11058  Super built-up  Area  Indira Nagar      1149.0   2.0      1.0  130.0   \n",
      "\n",
      "       bhk  \n",
      "1128     2  \n",
      "3260     2  \n",
      "3308     2  \n",
      "3918     2  \n",
      "4795     2  \n",
      "5022     2  \n",
      "7722     2  \n",
      "11058    2  \n"
     ]
    }
   ],
   "source": [
    "import pandas as pd\n",
    "\n",
    "# Assuming you have a DataFrame named df\n",
    "filtered_rows = df[(df['location'] == 'Indira Nagar') & (df['bath'] == 2) & (df['bhk'] == 2)]\n",
    "\n",
    "# Print the filtered rows\n",
    "print(filtered_rows)\n"
   ]
  },
  {
   "cell_type": "code",
   "execution_count": 80,
   "id": "a10802af-d385-464b-8dea-b0abd74a440f",
   "metadata": {},
   "outputs": [],
   "source": [
    "import pickle"
   ]
  },
  {
   "cell_type": "code",
   "execution_count": 81,
   "id": "40c148e5-a1b6-4117-9d94-9b495efb5122",
   "metadata": {},
   "outputs": [],
   "source": [
    "with open('house_prediction_model.pkl','wb') as f:\n",
    "    pickle.dump(model,f)"
   ]
  },
  {
   "cell_type": "code",
   "execution_count": null,
   "id": "515c3063-2898-4d0c-a071-5859d84a3f77",
   "metadata": {},
   "outputs": [],
   "source": []
  },
  {
   "cell_type": "code",
   "execution_count": 165,
   "id": "666a6799-92bf-47a7-b77c-82cdb0de07a5",
   "metadata": {},
   "outputs": [],
   "source": [
    "with open('columns.pkl', 'wb') as f:\n",
    "    pickle.dump(x, f)\n"
   ]
  },
  {
   "cell_type": "code",
   "execution_count": null,
   "id": "516b0af0-6db9-43d3-9d39-e173ce8a10e5",
   "metadata": {},
   "outputs": [],
   "source": []
  }
 ],
 "metadata": {
  "kernelspec": {
   "display_name": "Python 3 (ipykernel)",
   "language": "python",
   "name": "python3"
  },
  "language_info": {
   "codemirror_mode": {
    "name": "ipython",
    "version": 3
   },
   "file_extension": ".py",
   "mimetype": "text/x-python",
   "name": "python",
   "nbconvert_exporter": "python",
   "pygments_lexer": "ipython3",
   "version": "3.12.7"
  }
 },
 "nbformat": 4,
 "nbformat_minor": 5
}
